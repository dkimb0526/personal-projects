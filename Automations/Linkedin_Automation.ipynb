{
 "cells": [
  {
   "cell_type": "code",
   "execution_count": 1,
   "metadata": {},
   "outputs": [],
   "source": [
    "from selenium import webdriver\n",
    "import time\n",
    "from selenium.webdriver.common.by import By\n",
    "from datetime import datetime\n",
    "import pandas as pd\n",
    "from selenium.webdriver.chrome.service import Service\n",
    "from webdriver_manager.chrome import ChromeDriverManager\n",
    "from selenium.webdriver.common.keys import Keys\n",
    "#from selenium.webdriver import ActionChains\n",
    "#IMPORTANT, \".\" = TO FILL SPACE IN CSS SELECTOR"
   ]
  },
  {
   "cell_type": "code",
   "execution_count": 2,
   "metadata": {},
   "outputs": [],
   "source": [
    "website = r'https://www.linkedin.com/'"
   ]
  },
  {
   "cell_type": "code",
   "execution_count": 3,
   "metadata": {},
   "outputs": [
    {
     "name": "stderr",
     "output_type": "stream",
     "text": [
      "\n",
      "\n",
      "====== WebDriver manager ======\n",
      "Current google-chrome version is 114.0.5735\n",
      "Get LATEST chromedriver version for 114.0.5735 google-chrome\n",
      "Trying to download new driver from https://chromedriver.storage.googleapis.com/114.0.5735.90/chromedriver_win32.zip\n",
      "Driver has been saved in cache [C:\\Users\\xingk\\.wdm\\drivers\\chromedriver\\win32\\114.0.5735.90]\n"
     ]
    }
   ],
   "source": [
    "#driver = webdriver.Chrome(r\"C:\\Users\\xingk\\.wdm\\drivers\\chromedriver\\win32\")\n",
    "driver = webdriver.Chrome(service=Service(ChromeDriverManager().install()))\n",
    "time.sleep(3)"
   ]
  },
  {
   "cell_type": "code",
   "execution_count": 4,
   "metadata": {},
   "outputs": [],
   "source": [
    "driver.get(website)\n",
    "#time.sleep(3)"
   ]
  },
  {
   "cell_type": "code",
   "execution_count": 5,
   "metadata": {
    "scrolled": true
   },
   "outputs": [],
   "source": [
    "time.sleep(3)\n",
    "login_form = driver.find_element(By.LINK_TEXT, 'Sign in')"
   ]
  },
  {
   "cell_type": "code",
   "execution_count": 6,
   "metadata": {},
   "outputs": [],
   "source": [
    "login_form.click()"
   ]
  },
  {
   "cell_type": "code",
   "execution_count": 7,
   "metadata": {},
   "outputs": [],
   "source": [
    "email = driver.find_element(By.XPATH, \"//input[@id='username']\")\n",
    "password = driver.find_element(By.XPATH, \"//input[@id='password']\")"
   ]
  },
  {
   "cell_type": "code",
   "execution_count": 8,
   "metadata": {},
   "outputs": [],
   "source": [
    "time.sleep(3)\n",
    "email.send_keys(\"xingkimb@gmail.com\")\n",
    "time.sleep(3)\n",
    "password.send_keys(\"xing0526\")\n",
    "time.sleep(3)"
   ]
  },
  {
   "cell_type": "code",
   "execution_count": 9,
   "metadata": {},
   "outputs": [],
   "source": [
    "driver.find_element(By.XPATH, \"//button[@type='submit']\").click()"
   ]
  },
  {
   "cell_type": "code",
   "execution_count": 10,
   "metadata": {},
   "outputs": [],
   "source": [
    "confirmation = driver.find_elements(By.CSS_SELECTOR, '.primary-action-new')\n",
    "if len(confirmation):\n",
    "    confirmation[0].click()"
   ]
  },
  {
   "cell_type": "code",
   "execution_count": 11,
   "metadata": {},
   "outputs": [],
   "source": [
    "jobs = driver.find_elements(By.XPATH, \"//span[@title='Jobs']\")\n",
    "if len(jobs):\n",
    "    jobs[0].click()"
   ]
  },
  {
   "cell_type": "code",
   "execution_count": 12,
   "metadata": {},
   "outputs": [],
   "source": [
    "title = \"data analyst\"\n",
    "location = \"remote\""
   ]
  },
  {
   "cell_type": "code",
   "execution_count": 13,
   "metadata": {},
   "outputs": [],
   "source": [
    "time.sleep(3)\n",
    "search = driver.find_elements(By.XPATH, \"//input[@class='jobs-search-box__text-input jobs-search-box__keyboard-text-input']\")\n",
    "if len(search):\n",
    "    search[0].send_keys(title)\n",
    "    time.sleep(3)\n",
    "    search[0].send_keys(Keys.RETURN)\n"
   ]
  },
  {
   "cell_type": "code",
   "execution_count": 14,
   "metadata": {},
   "outputs": [],
   "source": [
    "search_location = driver.find_elements(By.XPATH, \"//input[@class='jobs-search-box__text-input']\")\n",
    "if len(search_location):\n",
    "    time.sleep(3)\n",
    "    search_location[0].send_keys(Keys.CONTROL + \"a\")\n",
    "    search_location[0].send_keys(location)"
   ]
  },
  {
   "cell_type": "code",
   "execution_count": 15,
   "metadata": {},
   "outputs": [],
   "source": [
    "#easy apply click\n",
    "time.sleep(3)\n",
    "filters = driver.find_elements(By.CSS_SELECTOR, '.search-reusables__primary-filter')\n",
    "if len(filters):\n",
    "    filters[6].click()\n",
    "#test[0].find_elements(By.CSS_SELECTOR, '.ember4120')"
   ]
  },
  {
   "cell_type": "code",
   "execution_count": 16,
   "metadata": {},
   "outputs": [],
   "source": [
    "time.sleep(3)\n",
    "press_search = driver.find_elements(By.CSS_SELECTOR, '.jobs-search-box__submit-button')\n",
    "if len(press_search):\n",
    "    press_search[0].click()"
   ]
  },
  {
   "cell_type": "code",
   "execution_count": 17,
   "metadata": {},
   "outputs": [],
   "source": [
    "#number of pages you want to scroll through\n",
    "start_page = 1\n",
    "pages = 2\n",
    "sleep_timer = 2"
   ]
  },
  {
   "cell_type": "code",
   "execution_count": null,
   "metadata": {},
   "outputs": [],
   "source": [
    "#unfollow = driver.find_elements(By.XPATH, \"//label[@for='follow-company-checkbox']\")\n",
    "#unfollow[0].click()"
   ]
  },
  {
   "cell_type": "code",
   "execution_count": 46,
   "metadata": {},
   "outputs": [],
   "source": [
    "def next_button():\n",
    "    time.sleep(sleep_timer)\n",
    "    #unfollow box\n",
    "    unfollow = driver.find_elements(By.XPATH, \"//label[@for='follow-company-checkbox']\")\n",
    "    if len(unfollow):\n",
    "        unfollow[0].click()\n",
    "        time.sleep(sleep_timer)\n",
    "    #continue next \n",
    "    nb1 = driver.find_elements(By.XPATH, \"//button[@aria-label='Continue to next step']\")\n",
    "    if len(nb1):\n",
    "        nb1[0].click()\n",
    "        time.sleep(sleep_timer)\n",
    "    #review application\n",
    "    review = driver.find_elements(By.XPATH, \"//button[@aria-label='Review your application']\")\n",
    "    if len(review):\n",
    "        review[0].click()\n",
    "        time.sleep(sleep_timer)\n",
    "    #submit application\n",
    "    submit = driver.find_elements(By.XPATH, \"//button[@aria-label='Submit application']\")\n",
    "    if len(submit):\n",
    "        unfollow = driver.find_elements(By.XPATH, \"//label[@for='follow-company-checkbox']\")\n",
    "        if len(unfollow):\n",
    "            unfollow[0].click()\n",
    "        time.sleep(sleep_timer)\n",
    "        submit[0].click()\n",
    "        time.sleep(sleep_timer)\n",
    "        \n"
   ]
  },
  {
   "cell_type": "code",
   "execution_count": 26,
   "metadata": {},
   "outputs": [],
   "source": [
    "exp_num = 4\n",
    "\n",
    "def fill_box():\n",
    "    boxes = driver.find_elements(By.XPATH, \"//input[@class=' artdeco-text-input--input']\")\n",
    "    if len(boxes):\n",
    "        for i in range(len(boxes)):\n",
    "            time.sleep(sleep_timer)\n",
    "            boxes[i].send_keys(Keys.CONTROL + \"a\")\n",
    "            time.sleep(sleep_timer)\n",
    "            boxes[i].send_keys(exp_num)\n",
    "            \n",
    "    time.sleep(sleep_timer)\n",
    "    yes_button = driver.find_elements(By.XPATH, \"//label[@data-test-text-selectable-option__label='Yes']\")\n",
    "    if len(yes_button):\n",
    "        yes_button[0].click()\n",
    "    \n",
    "    other_box = driver.find_elements(By.CSS_SELECTOR, '.artdeco-text-input--input')\n",
    "    if len(other_box):\n",
    "        for i in range(len(other_box)):\n",
    "            time.sleep(sleep_timer)\n",
    "            other_box[i].send_keys(Keys.CONTROL + \"a\")\n",
    "            time.sleep(sleep_timer)\n",
    "            other_box[i].send_keys(exp_num)\n"
   ]
  },
  {
   "cell_type": "code",
   "execution_count": 34,
   "metadata": {},
   "outputs": [
    {
     "data": {
      "text/plain": [
       "18.0"
      ]
     },
     "execution_count": 34,
     "metadata": {},
     "output_type": "execute_result"
    }
   ],
   "source": [
    "time.time() + (60*minutes) - time.time()"
   ]
  },
  {
   "cell_type": "code",
   "execution_count": 47,
   "metadata": {},
   "outputs": [],
   "source": [
    "next_button()"
   ]
  },
  {
   "cell_type": "code",
   "execution_count": 36,
   "metadata": {},
   "outputs": [],
   "source": [
    "exit = driver.find_elements(By.CSS_SELECTOR, '.artdeco-modal__dismiss')\n",
    "if len(exit):\n",
    "    #exit = driver.find_elements(By.CSS_SELECTOR, '.artdeco-modal__dismiss')\n",
    "    exit[0].click()"
   ]
  },
  {
   "cell_type": "code",
   "execution_count": 44,
   "metadata": {},
   "outputs": [],
   "source": [
    "discard = driver.find_elements(By.XPATH, \"//button[@data-control-name='discard_application_confirm_btn']\")\n",
    "if len(discard):\n",
    "    discard[0].click()"
   ]
  },
  {
   "cell_type": "code",
   "execution_count": 43,
   "metadata": {},
   "outputs": [],
   "source": [
    "minutes = 0.4"
   ]
  },
  {
   "cell_type": "code",
   "execution_count": 89,
   "metadata": {},
   "outputs": [],
   "source": [
    "apply_button = driver.find_elements(By.CSS_SELECTOR, '.jobs-apply-button--top-card')\n",
    "#apply_button[0].click()"
   ]
  },
  {
   "cell_type": "code",
   "execution_count": 92,
   "metadata": {},
   "outputs": [
    {
     "data": {
      "text/plain": [
       "[<selenium.webdriver.remote.webelement.WebElement (session=\"bf3c70822d7d0a0c16384df9525c925d\", element=\"CF1674AAB239BB26E656FC0E15CA23EB_element_3752\")>,\n",
       " <selenium.webdriver.remote.webelement.WebElement (session=\"bf3c70822d7d0a0c16384df9525c925d\", element=\"CF1674AAB239BB26E656FC0E15CA23EB_element_3753\")>]"
      ]
     },
     "execution_count": 92,
     "metadata": {},
     "output_type": "execute_result"
    }
   ],
   "source": [
    "apply_button"
   ]
  },
  {
   "cell_type": "code",
   "execution_count": 45,
   "metadata": {},
   "outputs": [
    {
     "name": "stdout",
     "output_type": "stream",
     "text": [
      "17.674109935760498\n",
      "5.213632583618164\n",
      "1.1032700538635254\n",
      "-3.0055975914001465\n",
      "finished first while loop\n",
      "17.75777792930603\n",
      "-80.02017307281494\n",
      "finished first while loop\n",
      "application couldnt complete\n"
     ]
    },
    {
     "ename": "IndexError",
     "evalue": "list index out of range",
     "output_type": "error",
     "traceback": [
      "\u001b[1;31m---------------------------------------------------------------------------\u001b[0m",
      "\u001b[1;31mIndexError\u001b[0m                                Traceback (most recent call last)",
      "\u001b[1;32m<ipython-input-45-3b726f528442>\u001b[0m in \u001b[0;36m<module>\u001b[1;34m\u001b[0m\n\u001b[0;32m     13\u001b[0m         \u001b[0mtimeout\u001b[0m \u001b[1;33m=\u001b[0m \u001b[0mtime\u001b[0m\u001b[1;33m.\u001b[0m\u001b[0mtime\u001b[0m\u001b[1;33m(\u001b[0m\u001b[1;33m)\u001b[0m \u001b[1;33m+\u001b[0m \u001b[1;33m(\u001b[0m\u001b[1;36m60\u001b[0m\u001b[1;33m*\u001b[0m\u001b[0mminutes\u001b[0m\u001b[1;33m)\u001b[0m\u001b[1;33m\u001b[0m\u001b[1;33m\u001b[0m\u001b[0m\n\u001b[0;32m     14\u001b[0m         \u001b[1;32mwhile\u001b[0m \u001b[0mtimein\u001b[0m \u001b[1;33m<=\u001b[0m \u001b[0mtimeout\u001b[0m\u001b[1;33m:\u001b[0m\u001b[1;33m\u001b[0m\u001b[1;33m\u001b[0m\u001b[0m\n\u001b[1;32m---> 15\u001b[1;33m             \u001b[0mnext_button\u001b[0m\u001b[1;33m(\u001b[0m\u001b[1;33m)\u001b[0m\u001b[1;33m\u001b[0m\u001b[1;33m\u001b[0m\u001b[0m\n\u001b[0m\u001b[0;32m     16\u001b[0m             \u001b[0mfill_box\u001b[0m\u001b[1;33m(\u001b[0m\u001b[1;33m)\u001b[0m\u001b[1;33m\u001b[0m\u001b[1;33m\u001b[0m\u001b[0m\n\u001b[0;32m     17\u001b[0m             \u001b[0mtimein\u001b[0m \u001b[1;33m=\u001b[0m \u001b[0mtime\u001b[0m\u001b[1;33m.\u001b[0m\u001b[0mtime\u001b[0m\u001b[1;33m(\u001b[0m\u001b[1;33m)\u001b[0m\u001b[1;33m\u001b[0m\u001b[1;33m\u001b[0m\u001b[0m\n",
      "\u001b[1;32m<ipython-input-28-a1274353e316>\u001b[0m in \u001b[0;36mnext_button\u001b[1;34m()\u001b[0m\n\u001b[0;32m     20\u001b[0m     \u001b[1;32mif\u001b[0m \u001b[0mlen\u001b[0m\u001b[1;33m(\u001b[0m\u001b[0msubmit\u001b[0m\u001b[1;33m)\u001b[0m\u001b[1;33m:\u001b[0m\u001b[1;33m\u001b[0m\u001b[1;33m\u001b[0m\u001b[0m\n\u001b[0;32m     21\u001b[0m         \u001b[0munfollow\u001b[0m \u001b[1;33m=\u001b[0m \u001b[0mdriver\u001b[0m\u001b[1;33m.\u001b[0m\u001b[0mfind_elements\u001b[0m\u001b[1;33m(\u001b[0m\u001b[0mBy\u001b[0m\u001b[1;33m.\u001b[0m\u001b[0mXPATH\u001b[0m\u001b[1;33m,\u001b[0m \u001b[1;34m\"//label[@for='follow-company-checkbox']\"\u001b[0m\u001b[1;33m)\u001b[0m\u001b[1;33m\u001b[0m\u001b[1;33m\u001b[0m\u001b[0m\n\u001b[1;32m---> 22\u001b[1;33m         \u001b[0munfollow\u001b[0m\u001b[1;33m[\u001b[0m\u001b[1;36m0\u001b[0m\u001b[1;33m]\u001b[0m\u001b[1;33m.\u001b[0m\u001b[0mclick\u001b[0m\u001b[1;33m(\u001b[0m\u001b[1;33m)\u001b[0m\u001b[1;33m\u001b[0m\u001b[1;33m\u001b[0m\u001b[0m\n\u001b[0m\u001b[0;32m     23\u001b[0m         \u001b[0mtime\u001b[0m\u001b[1;33m.\u001b[0m\u001b[0msleep\u001b[0m\u001b[1;33m(\u001b[0m\u001b[0msleep_timer\u001b[0m\u001b[1;33m)\u001b[0m\u001b[1;33m\u001b[0m\u001b[1;33m\u001b[0m\u001b[0m\n\u001b[0;32m     24\u001b[0m         \u001b[0msubmit\u001b[0m\u001b[1;33m[\u001b[0m\u001b[1;36m0\u001b[0m\u001b[1;33m]\u001b[0m\u001b[1;33m.\u001b[0m\u001b[0mclick\u001b[0m\u001b[1;33m(\u001b[0m\u001b[1;33m)\u001b[0m\u001b[1;33m\u001b[0m\u001b[1;33m\u001b[0m\u001b[0m\n",
      "\u001b[1;31mIndexError\u001b[0m: list index out of range"
     ]
    }
   ],
   "source": [
    "content = driver.find_elements(By.CSS_SELECTOR, '.jobs-search-results__list-item')\n",
    "\n",
    "for job_board in content:\n",
    "    time.sleep(sleep_timer)\n",
    "    job_board.click()\n",
    "    #need sleep before the button appear\n",
    "    time.sleep(3)\n",
    "    easy_apply = driver.find_elements(By.CSS_SELECTOR, '.jobs-apply-button--top-card')\n",
    "    if len(easy_apply):\n",
    "        easy_apply[0].click()\n",
    "        time.sleep(sleep_timer)\n",
    "        timein = time.time()\n",
    "        timeout = time.time() + (60*minutes)\n",
    "        while timein <= timeout:\n",
    "            next_button()\n",
    "            fill_box()\n",
    "            timein = time.time()\n",
    "            print(timeout - timein)\n",
    "        print(\"finished first while loop\")\n",
    "        exit = driver.find_elements(By.CSS_SELECTOR, '.artdeco-modal__dismiss')\n",
    "        if len(exit):\n",
    "            #exit = driver.find_elements(By.CSS_SELECTOR, '.artdeco-modal__dismiss')\n",
    "            exit[0].click()\n",
    "        time.sleep(sleep_timer)\n",
    "        discard = driver.find_elements(By.XPATH, \"//button[@data-control-name='discard_application_confirm_btn']\")\n",
    "        if len(discard):\n",
    "            discard[0].click()\n",
    "            print(\"application couldnt complete\")\n",
    "        \n",
    "    else:\n",
    "        continue"
   ]
  },
  {
   "cell_type": "code",
   "execution_count": 88,
   "metadata": {},
   "outputs": [
    {
     "data": {
      "text/plain": [
       "[]"
      ]
     },
     "execution_count": 88,
     "metadata": {},
     "output_type": "execute_result"
    }
   ],
   "source": [
    "hi = driver.find_elements(By.CSS_SELECTOR, '.artdeco-modal__dismiss')\n",
    "hi"
   ]
  },
  {
   "cell_type": "code",
   "execution_count": null,
   "metadata": {},
   "outputs": [],
   "source": [
    "while start_page <= pages:\n",
    "    cur_page = driver.find_elements(By.XPATH, f\"//li[@data-test-pagination-page-btn='{start_page}']\")\n",
    "    if len(cur_page):\n",
    "        cur_page[0].click()\n",
    "    start_page += 1\n",
    "    content = driver.find_elements(By.CSS_SELECTOR, '.jobs-search-results__list-item')\n",
    "    for job_board in content:\n",
    "        time.sleep(sleep_timer)\n",
    "        job_board.click()\n",
    "        easy_apply = driver.find_elements(By.CSS_SELECTOR, '.jobs-apply-button--top-card')\n",
    "        if len(easy_apply):\n",
    "            easy_apply[0].click()\n",
    "        time.sleep(sleep_timer)\n",
    "        timein = time.time()\n",
    "        timeout = time.time() + (60*minutes)\n",
    "        while timein <= timeout:\n",
    "            next_button()\n",
    "            fill_box()\n",
    "            \n",
    "        exit = driver.find_elements(By.CSS_SELECTOR, '.artdeco-modal__dismiss')\n",
    "        if len(exit):\n",
    "            exit[0].click()"
   ]
  },
  {
   "cell_type": "code",
   "execution_count": null,
   "metadata": {},
   "outputs": [],
   "source": [
    "sys.exit(\"STOP\")"
   ]
  },
  {
   "cell_type": "code",
   "execution_count": null,
   "metadata": {},
   "outputs": [],
   "source": [
    "#driver.find_elements(By.XPATH, \"//input[@class=' artdeco-text-input--input']\")"
   ]
  },
  {
   "cell_type": "code",
   "execution_count": null,
   "metadata": {},
   "outputs": [],
   "source": [
    "content[0].click()"
   ]
  },
  {
   "cell_type": "code",
   "execution_count": null,
   "metadata": {},
   "outputs": [],
   "source": []
  },
  {
   "cell_type": "code",
   "execution_count": null,
   "metadata": {},
   "outputs": [],
   "source": [
    "driver.find_elements(By.XPATH, \"//button[@aria-label='Continue to next step']\")[0].click()"
   ]
  },
  {
   "cell_type": "code",
   "execution_count": null,
   "metadata": {},
   "outputs": [],
   "source": []
  },
  {
   "cell_type": "code",
   "execution_count": null,
   "metadata": {},
   "outputs": [],
   "source": []
  },
  {
   "cell_type": "code",
   "execution_count": null,
   "metadata": {},
   "outputs": [],
   "source": []
  },
  {
   "cell_type": "code",
   "execution_count": null,
   "metadata": {},
   "outputs": [],
   "source": []
  },
  {
   "cell_type": "code",
   "execution_count": null,
   "metadata": {},
   "outputs": [],
   "source": []
  },
  {
   "cell_type": "code",
   "execution_count": null,
   "metadata": {},
   "outputs": [],
   "source": []
  },
  {
   "cell_type": "code",
   "execution_count": null,
   "metadata": {},
   "outputs": [],
   "source": [
    "full_list = []\n",
    "applied_list = []\n",
    "counter = 0\n",
    "\n",
    "for i in range(0, pages+1):\n",
    "    time.sleep(5)\n",
    "    content = driver.find_elements(By.CSS_SELECTOR, '.jobs-search-results__list-item')\n",
    "    \n",
    "    for listing in content:\n",
    "        \n",
    "        counter += 1\n",
    "        if counter % 25 == 0:\n",
    "            break\n",
    "        time.sleep(sleeptimer)\n",
    "        print(counter)\n",
    "        try:\n",
    "            #looking for successful applied notification\n",
    "            applied = driver.find_element(By.CSS_SELECTOR, '.artdeco-toast-item__content').text\n",
    "            applied_list.append([applied, counter])\n",
    "        except:\n",
    "            print(\"Fail at ----- > Finding succesful application TRY#1\")\n",
    "            pass\n",
    "        try:\n",
    "            #closing out button for successful application\n",
    "            finding_closed_button = driver.find_element(By.CSS_SELECTOR, '.artdeco-toast-item__dismiss')\n",
    "            finding_closed_button.click()\n",
    "        except:\n",
    "            print(\"Fail at ----- > closing successful application TRY#2\")\n",
    "            pass\n",
    "        #timer before clicking\n",
    "        try:\n",
    "            \n",
    "            listing.click()\n",
    "            time.sleep(sleeptimer)\n",
    "            listing.click()\n",
    "            jobtitle = driver.find_element(By.CSS_SELECTOR, '.jobs-unified-top-card__job-title').text\n",
    "            #company = driver.find_element(By.CSS_SELECTOR, '.jobs-unified-top-card__company-name').text\n",
    "            #if old_job_title == jobtitle:\n",
    "            #    print(\"Stuck on same job\")\n",
    "            #    break\n",
    "            #old_job_title = jobtitle\n",
    "            full_list.append([jobtitle, company, counter])\n",
    "            time.sleep(sleeptimer)\n",
    "\n",
    "            #print(counter)\n",
    "        except:\n",
    "            print(\"Fail at ----- > Clicking listing TRY#3\")\n",
    "            driver.find_element(By.XPATH, \"//html\").click()\n",
    "            time.sleep(sleeptimer)\n",
    "            listing.click()\n",
    "            time.sleep(sleeptimer)\n",
    "            listing.click()\n",
    "            jobtitle = driver.find_element(By.CSS_SELECTOR, '.jobs-unified-top-card__job-title').text\n",
    "            company = driver.find_element(By.CSS_SELECTOR, '.jobs-unified-top-card__company-name').text\n",
    "            #if old_job_title == jobtitle:\n",
    "            #    print(\"Stuck on same job\")\n",
    "            #    break\n",
    "            #old_job_title = jobtitle\n",
    "            full_list.append([jobtitle, company, counter])\n",
    "            time.sleep(sleeptimer)\n",
    "            pass\n",
    "        try:\n",
    "            driver.find_element(By.CSS_SELECTOR, '.jobs-apply-button')\n",
    "            apply_button = driver.find_element(By.CSS_SELECTOR, '.jobs-apply-button')\n",
    "            apply_button.click()\n",
    "            time.sleep(sleeptimer)\n",
    "        except:\n",
    "            #continue to next application because cannot find easy apply button\n",
    "            print(\"Fail at ----- > clicking apply application TRY#4\")\n",
    "            continue\n",
    "        try:\n",
    "            next_button = driver.find_element(By.CSS_SELECTOR, 'footer button')\n",
    "            next_button.click()\n",
    "            time.sleep(sleeptimer)\n",
    "            #click on the first next button\n",
    "            n_b_2 = driver.find_element(By.CSS_SELECTOR, '.artdeco-button--primary')\n",
    "            n_b_2.click()\n",
    "            time.sleep(sleeptimer)\n",
    "            #find resume\n",
    "            choose_resume = driver.find_element(By.CSS_SELECTOR, '.artdeco-button.artdeco-button--1')\n",
    "            choose_resume.click()\n",
    "            time.sleep(sleeptimer)\n",
    "            #Clicking on next button for choosing resume\n",
    "            choose_resume_button = driver.find_element(By.XPATH, \"//button[@class='artdeco-button artdeco-button--2 artdeco-button--primary ember-view']\")\n",
    "            choose_resume_button.click()\n",
    "            time.sleep(sleeptimer)\n",
    "            review = driver.find_element(By.CSS_SELECTOR, '.artdeco-button--primary')\n",
    "            review.click()\n",
    "            time.sleep(sleeptimer)\n",
    "            review2 = driver.find_element(By.CSS_SELECTOR, '.artdeco-button--primary')\n",
    "            review2.click()\n",
    "            time.sleep(sleeptimer)\n",
    "            uncheck_follow = driver.find_element(By.XPATH, \"//label[@for='follow-company-checkbox']\")\n",
    "            uncheck_follow.click()\n",
    "            time.sleep(sleeptimer)\n",
    "            final_review = driver.find_element(By.CSS_SELECTOR, '.artdeco-button--primary')\n",
    "            final_review.click()\n",
    "        except:\n",
    "            try:\n",
    "                review2 = driver.find_element(By.CSS_SELECTOR, '.artdeco-button--primary')\n",
    "                review2.click()\n",
    "                time.sleep(sleeptimer)\n",
    "                uncheck_follow = driver.find_element(By.XPATH, \"//label[@for='follow-company-checkbox']\")\n",
    "                uncheck_follow.click()\n",
    "                time.sleep(sleeptimer)\n",
    "                final_review = driver.find_element(By.CSS_SELECTOR, '.artdeco-button--primary')\n",
    "                final_review.click()\n",
    "            except:\n",
    "                try:\n",
    "                    \n",
    "                    discard_button = driver.find_element(By.CSS_SELECTOR, '.artdeco-modal__dismiss')\n",
    "                    discard_button.click()\n",
    "                    time.sleep(sleeptimer)\n",
    "                    discard_c = driver.find_element(By.CSS_SELECTOR, '.artdeco-button--secondary')\n",
    "                    discard_c.click()\n",
    "                except:\n",
    "                    try:\n",
    "                        driver.find_element(By.XPATH, \"//html\").click()\n",
    "                    except:\n",
    "                        print(f\"skipped ===> application #{counter}\")\n",
    "                        continue\n",
    "                        \n",
    "    if counter % 25 == 0:\n",
    "        print(\"IF FUNCTION INITIATED\")\n",
    "        print(f\"===Page==={counter}\")\n",
    "        after_first = f\"{page_links}={counter}\"\n",
    "        driver.get(after_first)                    \n"
   ]
  },
  {
   "cell_type": "code",
   "execution_count": null,
   "metadata": {},
   "outputs": [],
   "source": [
    "session = datetime.now().strftime(\"%m-%d-%Y_%H_%M_%S\")"
   ]
  },
  {
   "cell_type": "code",
   "execution_count": null,
   "metadata": {},
   "outputs": [],
   "source": [
    "len(applied_list)"
   ]
  },
  {
   "cell_type": "code",
   "execution_count": null,
   "metadata": {},
   "outputs": [],
   "source": [
    "len(full_list)"
   ]
  },
  {
   "cell_type": "code",
   "execution_count": null,
   "metadata": {},
   "outputs": [],
   "source": [
    "df = pd.DataFrame(applied_list, columns=[\"Company\", \"Row #\"])"
   ]
  },
  {
   "cell_type": "code",
   "execution_count": null,
   "metadata": {},
   "outputs": [],
   "source": [
    "df.to_csv(f\"applied_on_{session}\", sep='\\t')"
   ]
  },
  {
   "cell_type": "code",
   "execution_count": null,
   "metadata": {},
   "outputs": [],
   "source": [
    "content = driver.find_elements(By.CSS_SELECTOR, '.jobs-search-results__list-item')"
   ]
  },
  {
   "cell_type": "code",
   "execution_count": null,
   "metadata": {},
   "outputs": [],
   "source": []
  },
  {
   "cell_type": "code",
   "execution_count": null,
   "metadata": {},
   "outputs": [],
   "source": []
  },
  {
   "cell_type": "code",
   "execution_count": null,
   "metadata": {},
   "outputs": [],
   "source": []
  },
  {
   "cell_type": "code",
   "execution_count": null,
   "metadata": {},
   "outputs": [],
   "source": []
  },
  {
   "cell_type": "code",
   "execution_count": null,
   "metadata": {},
   "outputs": [],
   "source": []
  },
  {
   "cell_type": "code",
   "execution_count": null,
   "metadata": {},
   "outputs": [],
   "source": []
  },
  {
   "cell_type": "code",
   "execution_count": null,
   "metadata": {},
   "outputs": [],
   "source": []
  },
  {
   "cell_type": "code",
   "execution_count": null,
   "metadata": {},
   "outputs": [],
   "source": []
  }
 ],
 "metadata": {
  "kernelspec": {
   "display_name": "Python 3",
   "language": "python",
   "name": "python3"
  },
  "language_info": {
   "codemirror_mode": {
    "name": "ipython",
    "version": 3
   },
   "file_extension": ".py",
   "mimetype": "text/x-python",
   "name": "python",
   "nbconvert_exporter": "python",
   "pygments_lexer": "ipython3",
   "version": "3.7.6"
  }
 },
 "nbformat": 4,
 "nbformat_minor": 4
}
