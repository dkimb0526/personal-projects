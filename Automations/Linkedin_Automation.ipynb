{
 "cells": [
  {
   "cell_type": "code",
   "execution_count": 1,
   "metadata": {},
   "outputs": [],
   "source": [
    "from selenium import webdriver\n",
    "import time\n",
    "from selenium.webdriver.common.by import By\n",
    "from datetime import datetime\n",
    "import pandas as pd\n",
    "from selenium.webdriver.chrome.service import Service\n",
    "from webdriver_manager.chrome import ChromeDriverManager\n",
    "from selenium.webdriver.common.keys import Keys\n",
    "import Linkedin_config\n",
    "#from selenium.webdriver import ActionChains\n",
    "#IMPORTANT, \".\" = TO FILL SPACE IN CSS SELECTOR"
   ]
  },
  {
   "cell_type": "code",
   "execution_count": 2,
   "metadata": {},
   "outputs": [],
   "source": [
    "website = r'https://www.linkedin.com/'"
   ]
  },
  {
   "cell_type": "code",
   "execution_count": 3,
   "metadata": {},
   "outputs": [
    {
     "name": "stderr",
     "output_type": "stream",
     "text": [
      "\n",
      "\n",
      "====== WebDriver manager ======\n",
      "Current google-chrome version is 114.0.5735\n",
      "Get LATEST chromedriver version for 114.0.5735 google-chrome\n",
      "Trying to download new driver from https://chromedriver.storage.googleapis.com/114.0.5735.90/chromedriver_win32.zip\n",
      "Driver has been saved in cache [C:\\Users\\xingk\\.wdm\\drivers\\chromedriver\\win32\\114.0.5735.90]\n"
     ]
    }
   ],
   "source": [
    "#driver = webdriver.Chrome(r\"C:\\Users\\xingk\\.wdm\\drivers\\chromedriver\\win32\")\n",
    "driver = webdriver.Chrome(service=Service(ChromeDriverManager().install()))\n",
    "time.sleep(3)"
   ]
  },
  {
   "cell_type": "code",
   "execution_count": 4,
   "metadata": {},
   "outputs": [],
   "source": [
    "driver.get(website)\n",
    "#time.sleep(3)"
   ]
  },
  {
   "cell_type": "code",
   "execution_count": 5,
   "metadata": {
    "scrolled": true
   },
   "outputs": [],
   "source": [
    "time.sleep(3)\n",
    "login_form = driver.find_element(By.LINK_TEXT, 'Sign in')"
   ]
  },
  {
   "cell_type": "code",
   "execution_count": 6,
   "metadata": {},
   "outputs": [],
   "source": [
    "login_form.click()"
   ]
  },
  {
   "cell_type": "code",
   "execution_count": 7,
   "metadata": {},
   "outputs": [],
   "source": [
    "email = driver.find_element(By.XPATH, \"//input[@id='username']\")\n",
    "password = driver.find_element(By.XPATH, \"//input[@id='password']\")"
   ]
  },
  {
   "cell_type": "code",
   "execution_count": 8,
   "metadata": {},
   "outputs": [],
   "source": [
    "time.sleep(3)\n",
    "email.send_keys(Linkedin_config.myemail)\n",
    "time.sleep(3)\n",
    "password.send_keys(Linkedin_config.mypassword)\n",
    "time.sleep(3)"
   ]
  },
  {
   "cell_type": "code",
   "execution_count": 9,
   "metadata": {},
   "outputs": [],
   "source": [
    "driver.find_element(By.XPATH, \"//button[@type='submit']\").click()"
   ]
  },
  {
   "cell_type": "code",
   "execution_count": 10,
   "metadata": {},
   "outputs": [],
   "source": [
    "time.sleep(3)\n",
    "confirmation = driver.find_elements(By.CSS_SELECTOR, '.primary-action-new')\n",
    "if len(confirmation):\n",
    "    confirmation[0].click()"
   ]
  },
  {
   "cell_type": "code",
   "execution_count": 11,
   "metadata": {},
   "outputs": [],
   "source": [
    "time.sleep(3)\n",
    "jobs = driver.find_elements(By.XPATH, \"//span[@title='Jobs']\")\n",
    "if len(jobs):\n",
    "    jobs[0].click()"
   ]
  },
  {
   "cell_type": "code",
   "execution_count": 12,
   "metadata": {},
   "outputs": [],
   "source": [
    "title = \"software engineer\"\n",
    "location = \"remote\""
   ]
  },
  {
   "cell_type": "code",
   "execution_count": 13,
   "metadata": {},
   "outputs": [],
   "source": [
    "time.sleep(3)\n",
    "search = driver.find_elements(By.XPATH, \"//input[@class='jobs-search-box__text-input jobs-search-box__keyboard-text-input']\")\n",
    "if len(search):\n",
    "    search[0].send_keys(title)\n",
    "    time.sleep(3)\n",
    "    search[0].send_keys(Keys.RETURN)\n"
   ]
  },
  {
   "cell_type": "code",
   "execution_count": 14,
   "metadata": {},
   "outputs": [],
   "source": [
    "time.sleep(3)\n",
    "search_location = driver.find_elements(By.XPATH, \"//input[@class='jobs-search-box__text-input']\")\n",
    "if len(search_location):\n",
    "    time.sleep(3)\n",
    "    search_location[0].send_keys(Keys.CONTROL + \"a\")\n",
    "    search_location[0].send_keys(location)"
   ]
  },
  {
   "cell_type": "code",
   "execution_count": 16,
   "metadata": {},
   "outputs": [],
   "source": [
    "#easy apply click\n",
    "time.sleep(3)\n",
    "filters = driver.find_elements(By.CSS_SELECTOR, '.search-reusables__primary-filter')\n",
    "time.sleep(3)\n",
    "if len(filters):\n",
    "    filters[6].click()\n"
   ]
  },
  {
   "cell_type": "code",
   "execution_count": 17,
   "metadata": {},
   "outputs": [],
   "source": [
    "time.sleep(3)\n",
    "press_search = driver.find_elements(By.CSS_SELECTOR, '.jobs-search-box__submit-button')\n",
    "if len(press_search):\n",
    "    press_search[0].click()"
   ]
  },
  {
   "cell_type": "code",
   "execution_count": 18,
   "metadata": {},
   "outputs": [],
   "source": [
    "def next_button():\n",
    "    time.sleep(sleep_timer)\n",
    "    nb1 = driver.find_elements(By.XPATH, \"//button[@aria-label='Continue to next step']\")\n",
    "    if len(nb1):\n",
    "        nb1[0].click()\n",
    "        time.sleep(sleep_timer)\n",
    "    #review application\n",
    "    review = driver.find_elements(By.XPATH, \"//button[@aria-label='Review your application']\")\n",
    "    if len(review):\n",
    "        review[0].click()\n",
    "        time.sleep(sleep_timer)\n",
    "    time.sleep(sleep_timer)\n",
    "    submit = driver.find_elements(By.XPATH, \"//button[@aria-label='Submit application']\")\n",
    "    if len(submit):\n",
    "        unfollow = driver.find_elements(By.XPATH, \"//label[@for='follow-company-checkbox']\")\n",
    "        if len(unfollow):\n",
    "            unfollow[0].click()\n",
    "        time.sleep(sleep_timer)\n",
    "        submit[0].click()\n",
    "        time.sleep(sleep_timer)\n",
    "        return \"submitted\"\n"
   ]
  },
  {
   "cell_type": "code",
   "execution_count": 19,
   "metadata": {},
   "outputs": [],
   "source": [
    "def fill_box():\n",
    "    boxes = driver.find_elements(By.XPATH, \"//input[@class=' artdeco-text-input--input']\")\n",
    "    if len(boxes):\n",
    "        for i in range(len(boxes)):\n",
    "            box = boxes[i]\n",
    "            time.sleep(sleep_timer)\n",
    "            if len(box.get_attribute(\"value\")) <= 1 and box.get_attribute(\"value\") != str(exp_num):\n",
    "                box.send_keys(Keys.CONTROL + \"a\")\n",
    "                time.sleep(sleep_timer)\n",
    "                box.send_keys(exp_num)\n",
    "            \n",
    "\n",
    "    \n",
    "    other_box = driver.find_elements(By.CSS_SELECTOR, '.artdeco-text-input--input')\n",
    "    if len(other_box):\n",
    "        for i in range(len(other_box)):\n",
    "            ob = other_box[i]\n",
    "            time.sleep(sleep_timer)\n",
    "            if len(ob.get_attribute(\"value\")) <= 1 and ob.get_attribute(\"value\") != str(exp_num):\n",
    "                ob.send_keys(Keys.CONTROL + \"a\")\n",
    "                time.sleep(sleep_timer)\n",
    "                ob.send_keys(exp_num)"
   ]
  },
  {
   "cell_type": "code",
   "execution_count": 20,
   "metadata": {},
   "outputs": [],
   "source": [
    "def buttonclick():\n",
    "    time.sleep(sleep_timer)\n",
    "    #check if any of the buttons are clicked\n",
    "    y_b = driver.find_elements(By.XPATH, \"//input[@data-test-text-selectable-option__input='Yes']\")\n",
    "    n_b = driver.find_elements(By.XPATH, \"//input[@data-test-text-selectable-option__input='No']\")\n",
    "    yes_button = driver.find_elements(By.XPATH, \"//label[@data-test-text-selectable-option__label='Yes']\")\n",
    "    for i in range(len(y_b)):\n",
    "        if y_b[i].is_selected() or n_b[i].is_selected():\n",
    "            continue\n",
    "        else:\n",
    "            yes_button[i].click()"
   ]
  },
  {
   "cell_type": "code",
   "execution_count": 21,
   "metadata": {},
   "outputs": [],
   "source": [
    "def discard():\n",
    "    global app, noapp  # Add this line to access the global variables\n",
    "    discard = driver.find_elements(By.XPATH, \"//button[@data-control-name='discard_application_confirm_btn']\")\n",
    "    if len(discard):\n",
    "        discard[0].click()\n",
    "        noapp += 1\n",
    "        print(f\"application couldn't complete {noapp}\")\n",
    "    else:\n",
    "        app += 1\n",
    "        print(f\"application completed {app}\")"
   ]
  },
  {
   "cell_type": "code",
   "execution_count": 22,
   "metadata": {},
   "outputs": [],
   "source": [
    "def closing():\n",
    "    print(\"========================Closing ceremony========================\")\n",
    "    #closing out the application\n",
    "    exit = driver.find_elements(By.CSS_SELECTOR, '.artdeco-modal__dismiss')\n",
    "    if len(exit):\n",
    "        exit[0].click()"
   ]
  },
  {
   "cell_type": "code",
   "execution_count": 23,
   "metadata": {},
   "outputs": [],
   "source": [
    "def cut():\n",
    "    alert = driver.find_elements(By.XPATH, \"//span[@class='artdeco-inline-feedback__message']\")\n",
    "    if len(alert):\n",
    "        for i in range(len(alert)):\n",
    "            if alert[i].text == \"Please enter a valid answer\" or \"Please make a selection\":\n",
    "                return \"Yes\""
   ]
  },
  {
   "cell_type": "code",
   "execution_count": 39,
   "metadata": {},
   "outputs": [],
   "source": [
    "def print_title(i):\n",
    "        j_name = driver.find_elements(By.XPATH, \"//a[@class='disabled ember-view job-card-container__link job-card-list__title']\")\n",
    "        if len(j_name):\n",
    "            print(j_name[i].text)\n"
   ]
  },
  {
   "cell_type": "code",
   "execution_count": 40,
   "metadata": {},
   "outputs": [],
   "source": [
    "#amount of minutes to spend on an application\n",
    "minutes = 1\n",
    "\n",
    "#number of pages you want to scroll through\n",
    "start_page = 0\n",
    "pages = 15\n",
    "sleep_timer = 2\n",
    "\n",
    "#app tracker\n",
    "app = 0\n",
    "noapp = 0\n",
    "\n",
    "#the number you want to be filled in the box for your experiences\n",
    "exp_num = 4\n"
   ]
  },
  {
   "cell_type": "code",
   "execution_count": null,
   "metadata": {},
   "outputs": [
    {
     "name": "stdout",
     "output_type": "stream",
     "text": [
      "Technical Solutions Engineer - Adapter Developer\n",
      "========================Closing ceremony========================\n",
      "application completed 1\n",
      "SQL Developer\n",
      "========================Closing ceremony========================\n",
      "application couldn't complete 1\n",
      "Data Center Engineer\n",
      "========================Closing ceremony========================\n",
      "application completed 2\n",
      "Net & SQL Developer\n",
      "========================Closing ceremony========================\n",
      "application completed 3\n",
      "Software Engineer (Data)\n",
      "Data Engineer\n",
      "Data Engineer\n",
      "========================Closing ceremony========================\n",
      "application completed 4\n",
      "Java Software Engineer - Space Systems\n",
      "========================Closing ceremony========================\n",
      "application couldn't complete 2\n",
      "Database Developer\n",
      "========================Closing ceremony========================\n",
      "application completed 5\n",
      ".Net Developer\n",
      "========================Closing ceremony========================\n",
      "application completed 6\n",
      "Principal Cryptography / Security Engineer\n",
      "SQL Developer\n",
      "SQL Developer\n",
      "========================Closing ceremony========================\n",
      "application completed 7\n",
      "Data Engineer\n",
      "Python Developer\n",
      "Software Engineer Intern\n",
      "========================Closing ceremony========================\n",
      "application couldn't complete 3\n",
      "Python Data Engineer\n",
      "========================Closing ceremony========================\n",
      "application completed 8\n",
      "Data Engineer\n",
      "Software Engineer\n",
      "========================Closing ceremony========================\n",
      "application couldn't complete 4\n",
      "Python Developer\n",
      "========================Closing ceremony========================\n",
      "application couldn't complete 5\n",
      "Python Developer\n",
      "========================Closing ceremony========================\n",
      "application completed 9\n",
      "Application Developer\n",
      "Python SQL Developer\n",
      "========================Closing ceremony========================\n",
      "application couldn't complete 6\n",
      "Jr. BI Developer\n",
      "========================Closing ceremony========================\n",
      "application completed 10\n",
      "Python Developer\n",
      "SQL Developer\n",
      "Senior Systems Engineer\n",
      "========================Closing ceremony========================\n",
      "application couldn't complete 7\n",
      "Embedded Software Engineer\n",
      "========================Closing ceremony========================\n",
      "application completed 11\n",
      "SQL Data Engineer\n",
      "========================Closing ceremony========================\n",
      "application completed 12\n",
      "CNC Programmer\n",
      "Lead Distributed Systems Engineer\n",
      "========================Closing ceremony========================\n",
      "application couldn't complete 8\n",
      "Python Data Engineer\n",
      "========================Closing ceremony========================\n",
      "application couldn't complete 9\n",
      "Senior Embedded Software Engineer\n",
      "========================Closing ceremony========================\n",
      "application couldn't complete 10\n",
      "IT Engineer\n",
      "========================Closing ceremony========================\n",
      "application couldn't complete 11\n",
      ".Net Developer\n",
      "========================Closing ceremony========================\n",
      "application completed 13\n",
      "Senior JDE Developer\n",
      "Python Developer\n",
      "Automation Programmer\n",
      "SQL Developer\n",
      "SQL Developer\n",
      "Dotnet Developer\n",
      "Azure Engineer\n",
      "Data Integration Developer\n",
      "Software Engineer\n",
      "========================Closing ceremony========================\n",
      "application completed 14\n",
      "C# .NET Developer III\n",
      "========================Closing ceremony========================\n",
      "application completed 15\n",
      "Database Developer - On Site\n",
      "========================Closing ceremony========================\n",
      "application completed 16\n",
      "PL/SQL Database Developer\n",
      "SQL Software Development Engineer\n",
      "========================Closing ceremony========================\n",
      "application completed 17\n",
      "Database Reporting Developer\n",
      "========================Closing ceremony========================\n",
      "application completed 18\n",
      "Python Quantitative Developer\n",
      "========================Closing ceremony========================\n",
      "application completed 19\n",
      "Database Engineer\n",
      "========================Closing ceremony========================\n",
      "application completed 20\n",
      "Data Engineer\n",
      "NoSQL/Linux Database Engineer\n",
      "Data Developer\n",
      "========================Closing ceremony========================\n",
      "application completed 21\n",
      "Python Data Engineer\n",
      "========================Closing ceremony========================\n",
      "application completed 22\n",
      "SQL Data Engineer\n",
      "========================Closing ceremony========================\n",
      "application completed 23\n",
      "BI/ETL Report Developer - T-SQL, Ssis, ETL\n",
      "========================Closing ceremony========================\n",
      "application completed 24\n",
      "Software Engineer\n",
      "========================Closing ceremony========================\n",
      "application couldn't complete 12\n",
      "Software Engineer\n",
      "========================Closing ceremony========================\n",
      "application couldn't complete 13\n"
     ]
    }
   ],
   "source": [
    "while start_page <= pages:\n",
    "    #clicking for pages at the button\n",
    "    time.sleep(2)\n",
    "    start_page += 1\n",
    "    cur_page = driver.find_elements(By.XPATH, f\"//li[@data-test-pagination-page-btn='{start_page}']\")\n",
    "    if len(cur_page):\n",
    "        cur_page[0].click()\n",
    "    #give time before looping\n",
    "    time.sleep(2)\n",
    "    job_board = driver.find_elements(By.CSS_SELECTOR, '.jobs-search-results__list-item')\n",
    "    #looping through the applications\n",
    "    for i in range(len(job_board)):\n",
    "        time.sleep(sleep_timer)\n",
    "        job_board[i].click()\n",
    "        try:\n",
    "            print_title(i)\n",
    "        except:\n",
    "            continue\n",
    "        #need sleep before the button appear\n",
    "        time.sleep(3)\n",
    "        easy_apply = driver.find_elements(By.CSS_SELECTOR, '.jobs-apply-button--top-card')\n",
    "        if len(easy_apply):\n",
    "            easy_apply[0].click()\n",
    "            time.sleep(sleep_timer)\n",
    "            timein = time.time()\n",
    "            timeout = time.time() + (60*minutes)\n",
    "            #filling out the form\n",
    "            while timein <= timeout:\n",
    "                #click next\n",
    "                next_button()\n",
    "                #filling box\n",
    "                fill_box()\n",
    "                #click button\n",
    "                buttonclick()\n",
    "                #submit application or early failure we get outta the loop\n",
    "                if cut() == \"Yes\" or next_button() == \"submitted\":\n",
    "                    break\n",
    "                timein = time.time()\n",
    "                #print(timeout - timein)\n",
    "            time.sleep(3)\n",
    "            #closing out the application\n",
    "            closing()\n",
    "            time.sleep(3)\n",
    "            #confirm to discard the application\n",
    "            discard()             \n",
    "        else:\n",
    "            continue"
   ]
  },
  {
   "cell_type": "code",
   "execution_count": null,
   "metadata": {},
   "outputs": [],
   "source": [
    "sys.exit(\"STOP\")"
   ]
  },
  {
   "cell_type": "code",
   "execution_count": null,
   "metadata": {},
   "outputs": [],
   "source": [
    "session = datetime.now().strftime(\"%m-%d-%Y_%H_%M_%S\")"
   ]
  },
  {
   "cell_type": "code",
   "execution_count": null,
   "metadata": {},
   "outputs": [],
   "source": []
  },
  {
   "cell_type": "code",
   "execution_count": null,
   "metadata": {},
   "outputs": [],
   "source": []
  },
  {
   "cell_type": "code",
   "execution_count": null,
   "metadata": {},
   "outputs": [],
   "source": []
  },
  {
   "cell_type": "code",
   "execution_count": null,
   "metadata": {},
   "outputs": [],
   "source": []
  },
  {
   "cell_type": "code",
   "execution_count": null,
   "metadata": {},
   "outputs": [],
   "source": []
  }
 ],
 "metadata": {
  "kernelspec": {
   "display_name": "Python 3",
   "language": "python",
   "name": "python3"
  },
  "language_info": {
   "codemirror_mode": {
    "name": "ipython",
    "version": 3
   },
   "file_extension": ".py",
   "mimetype": "text/x-python",
   "name": "python",
   "nbconvert_exporter": "python",
   "pygments_lexer": "ipython3",
   "version": "3.7.6"
  }
 },
 "nbformat": 4,
 "nbformat_minor": 4
}
