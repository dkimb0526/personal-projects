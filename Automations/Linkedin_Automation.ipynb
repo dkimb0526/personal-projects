{
 "cells": [
  {
   "cell_type": "code",
   "execution_count": 24,
   "metadata": {},
   "outputs": [],
   "source": [
    "from selenium import webdriver\n",
    "import time\n",
    "from selenium.webdriver.common.by import By\n",
    "from datetime import datetime\n",
    "import pandas as pd\n",
    "from selenium.webdriver.chrome.service import Service\n",
    "from webdriver_manager.chrome import ChromeDriverManager\n",
    "from selenium.webdriver.common.keys import Keys\n",
    "#from selenium.webdriver import ActionChains\n",
    "#IMPORTANT, \".\" = TO FILL SPACE IN CSS SELECTOR"
   ]
  },
  {
   "cell_type": "code",
   "execution_count": 25,
   "metadata": {},
   "outputs": [],
   "source": [
    "website = r'https://www.linkedin.com/'"
   ]
  },
  {
   "cell_type": "code",
   "execution_count": 26,
   "metadata": {},
   "outputs": [
    {
     "name": "stderr",
     "output_type": "stream",
     "text": [
      "\n",
      "\n",
      "====== WebDriver manager ======\n",
      "Current google-chrome version is 114.0.5735\n",
      "Get LATEST chromedriver version for 114.0.5735 google-chrome\n",
      "Driver [C:\\Users\\xingk\\.wdm\\drivers\\chromedriver\\win32\\114.0.5735.90\\chromedriver.exe] found in cache\n"
     ]
    }
   ],
   "source": [
    "#driver = webdriver.Chrome(r\"C:\\Users\\xingk\\.wdm\\drivers\\chromedriver\\win32\")\n",
    "driver = webdriver.Chrome(service=Service(ChromeDriverManager().install()))\n",
    "time.sleep(3)"
   ]
  },
  {
   "cell_type": "code",
   "execution_count": 27,
   "metadata": {},
   "outputs": [],
   "source": [
    "driver.get(website)\n",
    "#time.sleep(3)"
   ]
  },
  {
   "cell_type": "code",
   "execution_count": 28,
   "metadata": {
    "scrolled": true
   },
   "outputs": [],
   "source": [
    "time.sleep(3)\n",
    "login_form = driver.find_element(By.LINK_TEXT, 'Sign in')"
   ]
  },
  {
   "cell_type": "code",
   "execution_count": 29,
   "metadata": {},
   "outputs": [],
   "source": [
    "login_form.click()"
   ]
  },
  {
   "cell_type": "code",
   "execution_count": 30,
   "metadata": {},
   "outputs": [],
   "source": [
    "email = driver.find_element(By.XPATH, \"//input[@id='username']\")\n",
    "password = driver.find_element(By.XPATH, \"//input[@id='password']\")"
   ]
  },
  {
   "cell_type": "code",
   "execution_count": 31,
   "metadata": {},
   "outputs": [],
   "source": [
    "time.sleep(3)\n",
    "email.send_keys(\"xingkimb@gmail.com\")\n",
    "time.sleep(3)\n",
    "password.send_keys(\"xing0526\")\n",
    "time.sleep(3)"
   ]
  },
  {
   "cell_type": "code",
   "execution_count": 32,
   "metadata": {},
   "outputs": [],
   "source": [
    "driver.find_element(By.XPATH, \"//button[@type='submit']\").click()"
   ]
  },
  {
   "cell_type": "code",
   "execution_count": 33,
   "metadata": {},
   "outputs": [],
   "source": [
    "time.sleep(3)\n",
    "confirmation = driver.find_elements(By.CSS_SELECTOR, '.primary-action-new')\n",
    "if len(confirmation):\n",
    "    confirmation[0].click()"
   ]
  },
  {
   "cell_type": "code",
   "execution_count": 34,
   "metadata": {},
   "outputs": [],
   "source": [
    "time.sleep(3)\n",
    "jobs = driver.find_elements(By.XPATH, \"//span[@title='Jobs']\")\n",
    "if len(jobs):\n",
    "    jobs[0].click()"
   ]
  },
  {
   "cell_type": "code",
   "execution_count": 35,
   "metadata": {},
   "outputs": [],
   "source": [
    "title = \"data engineer\"\n",
    "location = \"remote\""
   ]
  },
  {
   "cell_type": "code",
   "execution_count": 36,
   "metadata": {},
   "outputs": [],
   "source": [
    "time.sleep(3)\n",
    "search = driver.find_elements(By.XPATH, \"//input[@class='jobs-search-box__text-input jobs-search-box__keyboard-text-input']\")\n",
    "if len(search):\n",
    "    search[0].send_keys(title)\n",
    "    time.sleep(3)\n",
    "    search[0].send_keys(Keys.RETURN)\n"
   ]
  },
  {
   "cell_type": "code",
   "execution_count": 80,
   "metadata": {},
   "outputs": [],
   "source": [
    "time.sleep(3)\n",
    "search_location = driver.find_elements(By.XPATH, \"//input[@class='jobs-search-box__text-input']\")\n",
    "if len(search_location):\n",
    "    time.sleep(3)\n",
    "    search_location[0].send_keys(Keys.CONTROL + \"a\")\n",
    "    search_location[0].send_keys(location)"
   ]
  },
  {
   "cell_type": "code",
   "execution_count": 38,
   "metadata": {},
   "outputs": [],
   "source": [
    "#easy apply click\n",
    "time.sleep(3)\n",
    "filters = driver.find_elements(By.CSS_SELECTOR, '.search-reusables__primary-filter')\n",
    "if len(filters):\n",
    "    filters[6].click()\n"
   ]
  },
  {
   "cell_type": "code",
   "execution_count": 39,
   "metadata": {},
   "outputs": [],
   "source": [
    "time.sleep(3)\n",
    "press_search = driver.find_elements(By.CSS_SELECTOR, '.jobs-search-box__submit-button')\n",
    "if len(press_search):\n",
    "    press_search[0].click()"
   ]
  },
  {
   "cell_type": "code",
   "execution_count": 61,
   "metadata": {},
   "outputs": [],
   "source": [
    "def next_button():\n",
    "    time.sleep(sleep_timer)\n",
    "    #unfollow box\n",
    "    #unfollow = driver.find_elements(By.XPATH, \"//label[@for='follow-company-checkbox']\")\n",
    "    #if len(unfollow):\n",
    "    #    unfollow[0].click()\n",
    "    #    time.sleep(sleep_timer)\n",
    "    #continue next \n",
    "    nb1 = driver.find_elements(By.XPATH, \"//button[@aria-label='Continue to next step']\")\n",
    "    if len(nb1):\n",
    "        nb1[0].click()\n",
    "        time.sleep(sleep_timer)\n",
    "    #review application\n",
    "    review = driver.find_elements(By.XPATH, \"//button[@aria-label='Review your application']\")\n",
    "    if len(review):\n",
    "        review[0].click()\n",
    "        time.sleep(sleep_timer)\n",
    "    time.sleep(sleep_timer)\n",
    "    submit = driver.find_elements(By.XPATH, \"//button[@aria-label='Submit application']\")\n",
    "    if len(submit):\n",
    "        unfollow = driver.find_elements(By.XPATH, \"//label[@for='follow-company-checkbox']\")\n",
    "        if len(unfollow):\n",
    "            unfollow[0].click()\n",
    "        time.sleep(sleep_timer)\n",
    "        submit[0].click()\n",
    "        time.sleep(sleep_timer)\n",
    "        return \"submitted\"\n"
   ]
  },
  {
   "cell_type": "code",
   "execution_count": 41,
   "metadata": {},
   "outputs": [],
   "source": [
    "def fill_box():\n",
    "    boxes = driver.find_elements(By.XPATH, \"//input[@class=' artdeco-text-input--input']\")\n",
    "    if len(boxes):\n",
    "        for i in range(len(boxes)):\n",
    "            box = boxes[i]\n",
    "            time.sleep(sleep_timer)\n",
    "            if len(box.get_attribute(\"value\")) <= 1 and box.get_attribute(\"value\") != str(exp_num):\n",
    "                box.send_keys(Keys.CONTROL + \"a\")\n",
    "                time.sleep(sleep_timer)\n",
    "                box.send_keys(exp_num)\n",
    "            \n",
    "\n",
    "    \n",
    "    other_box = driver.find_elements(By.CSS_SELECTOR, '.artdeco-text-input--input')\n",
    "    if len(other_box):\n",
    "        for i in range(len(other_box)):\n",
    "            ob = other_box[i]\n",
    "            time.sleep(sleep_timer)\n",
    "            if len(ob.get_attribute(\"value\")) <= 1 and ob.get_attribute(\"value\") != str(exp_num):\n",
    "                ob.send_keys(Keys.CONTROL + \"a\")\n",
    "                time.sleep(sleep_timer)\n",
    "                ob.send_keys(exp_num)"
   ]
  },
  {
   "cell_type": "code",
   "execution_count": 42,
   "metadata": {},
   "outputs": [],
   "source": [
    "def buttonclick():\n",
    "    time.sleep(sleep_timer)\n",
    "    #check if any of the buttons are clicked\n",
    "    y_b = driver.find_elements(By.XPATH, \"//input[@data-test-text-selectable-option__input='Yes']\")\n",
    "    n_b = driver.find_elements(By.XPATH, \"//input[@data-test-text-selectable-option__input='No']\")\n",
    "    yes_button = driver.find_elements(By.XPATH, \"//label[@data-test-text-selectable-option__label='Yes']\")\n",
    "    for i in range(len(y_b)):\n",
    "        if y_b[i].is_selected() or n_b[i].is_selected():\n",
    "            continue\n",
    "        else:\n",
    "            yes_button[i].click()"
   ]
  },
  {
   "cell_type": "code",
   "execution_count": 114,
   "metadata": {},
   "outputs": [],
   "source": [
    "def discard():\n",
    "    global app, noapp  # Add this line to access the global variables\n",
    "    discard = driver.find_elements(By.XPATH, \"//button[@data-control-name='discard_application_confirm_btn']\")\n",
    "    if len(discard):\n",
    "        discard[0].click()\n",
    "        noapp += 1\n",
    "        print(f\"application couldn't complete {noapp}\")\n",
    "    else:\n",
    "        app += 1\n",
    "        print(f\"application completed {app}\")"
   ]
  },
  {
   "cell_type": "code",
   "execution_count": 100,
   "metadata": {},
   "outputs": [],
   "source": [
    "def closing():\n",
    "    print(\"========================Closing ceremony========================\")\n",
    "    #closing out the application\n",
    "    exit = driver.find_elements(By.CSS_SELECTOR, '.artdeco-modal__dismiss')\n",
    "    if len(exit):\n",
    "        exit[0].click()"
   ]
  },
  {
   "cell_type": "code",
   "execution_count": 112,
   "metadata": {},
   "outputs": [],
   "source": [
    "def cut():\n",
    "    alert = driver.find_elements(By.XPATH, \"//span[@class='artdeco-inline-feedback__message']\")\n",
    "    if len(alert):\n",
    "        for i in range(len(alert)):\n",
    "            if alert[i].text == \"Please enter a valid answer\" or \"Please make a selection\":\n",
    "                return \"Yes\""
   ]
  },
  {
   "cell_type": "code",
   "execution_count": 115,
   "metadata": {},
   "outputs": [],
   "source": [
    "#amount of minutes to spend on an application\n",
    "minutes = 1\n",
    "\n",
    "#number of pages you want to scroll through\n",
    "start_page = 0\n",
    "pages = 5\n",
    "sleep_timer = 2\n",
    "\n",
    "#app tracker\n",
    "app = 0\n",
    "noapp = 0\n",
    "\n",
    "#the number you want to be filled in the box for your experiences\n",
    "exp_num = 4\n"
   ]
  },
  {
   "cell_type": "code",
   "execution_count": 119,
   "metadata": {},
   "outputs": [
    {
     "name": "stdout",
     "output_type": "stream",
     "text": [
      "Data Engineer\n",
      "Staff Software Engineer\n",
      "SQL Developer\n",
      "========================Closing ceremony========================\n",
      "application couldn't complete 9\n",
      "Sr. Full Stack Developer\n",
      "Data Engineer\n",
      "========================Closing ceremony========================\n",
      "application couldn't complete 10\n",
      "Business Intelligence Engineer (1380016)\n",
      "========================Closing ceremony========================\n",
      "application completed 10\n",
      "Senior Systems Engineer\n",
      "========================Closing ceremony========================\n",
      "application couldn't complete 11\n",
      "Senior Backend Engineer (Miami)\n",
      "========================Closing ceremony========================\n",
      "application completed 11\n",
      "Software Engineer\n",
      "========================Closing ceremony========================\n",
      "application completed 12\n",
      "Senior Software Engineer\n",
      "========================Closing ceremony========================\n",
      "application completed 13\n",
      "Software Engineer - Cloud\n",
      "========================Closing ceremony========================\n",
      "application completed 14\n",
      "Technical System Integrator\n",
      "========================Closing ceremony========================\n",
      "application completed 15\n",
      "Python Developer\n",
      "========================Closing ceremony========================\n",
      "application completed 16\n",
      "Data Integration Developer\n",
      "========================Closing ceremony========================\n",
      "application completed 17\n",
      "Tableau Software Engineer\n",
      "========================Closing ceremony========================\n",
      "application couldn't complete 12\n",
      "Software Engineer\n",
      "========================Closing ceremony========================\n",
      "application completed 18\n",
      "SQL Developer\n",
      "Data Engineer\n",
      "SQL Server Developer (with SSIS experience)\n",
      "SharePoint Developer\n",
      "========================Closing ceremony========================\n",
      "application couldn't complete 13\n",
      "Python Software Engineer\n",
      "========================Closing ceremony========================\n",
      "application completed 19\n",
      "Software Engineer\n",
      "========================Closing ceremony========================\n",
      "application completed 20\n",
      "Analytics Engineer\n",
      "Sr. Embedded and System Software Engineer (ADAS/AD Middleware, ROS2/Linux Kernel/IP-comm)\n",
      "========================Closing ceremony========================\n",
      "application couldn't complete 14\n",
      "Senior iOS Developer\n",
      "========================Closing ceremony========================\n",
      "application completed 21\n",
      "Software Developer\n",
      "========================Closing ceremony========================\n",
      "application couldn't complete 15\n",
      "C# Developer\n",
      "========================Closing ceremony========================\n",
      "application completed 22\n",
      ".Net Developer\n",
      "========================Closing ceremony========================\n",
      "application completed 23\n",
      "REMOTE Application Developer\n",
      "========================Closing ceremony========================\n",
      "application completed 24\n",
      "C# Developer\n",
      "========================Closing ceremony========================\n",
      "application completed 25\n",
      "SQL Developer\n",
      ".Net Developer with C# and SQL\n",
      "========================Closing ceremony========================\n",
      "application completed 26\n"
     ]
    },
    {
     "ename": "IndexError",
     "evalue": "list index out of range",
     "output_type": "error",
     "traceback": [
      "\u001b[1;31m---------------------------------------------------------------------------\u001b[0m",
      "\u001b[1;31mIndexError\u001b[0m                                Traceback (most recent call last)",
      "\u001b[1;32m<ipython-input-119-35621763d53d>\u001b[0m in \u001b[0;36m<module>\u001b[1;34m\u001b[0m\n\u001b[0;32m     14\u001b[0m         \u001b[0mtime\u001b[0m\u001b[1;33m.\u001b[0m\u001b[0msleep\u001b[0m\u001b[1;33m(\u001b[0m\u001b[0msleep_timer\u001b[0m\u001b[1;33m)\u001b[0m\u001b[1;33m\u001b[0m\u001b[1;33m\u001b[0m\u001b[0m\n\u001b[0;32m     15\u001b[0m         \u001b[0mjob_board\u001b[0m\u001b[1;33m[\u001b[0m\u001b[0mi\u001b[0m\u001b[1;33m]\u001b[0m\u001b[1;33m.\u001b[0m\u001b[0mclick\u001b[0m\u001b[1;33m(\u001b[0m\u001b[1;33m)\u001b[0m\u001b[1;33m\u001b[0m\u001b[1;33m\u001b[0m\u001b[0m\n\u001b[1;32m---> 16\u001b[1;33m         \u001b[1;32mif\u001b[0m\u001b[1;33m(\u001b[0m\u001b[0mj_name\u001b[0m\u001b[1;33m[\u001b[0m\u001b[0mi\u001b[0m\u001b[1;33m]\u001b[0m\u001b[1;33m)\u001b[0m\u001b[1;33m:\u001b[0m\u001b[1;33m\u001b[0m\u001b[1;33m\u001b[0m\u001b[0m\n\u001b[0m\u001b[0;32m     17\u001b[0m             \u001b[0mprint\u001b[0m\u001b[1;33m(\u001b[0m\u001b[0mj_name\u001b[0m\u001b[1;33m[\u001b[0m\u001b[0mi\u001b[0m\u001b[1;33m]\u001b[0m\u001b[1;33m.\u001b[0m\u001b[0mtext\u001b[0m\u001b[1;33m)\u001b[0m\u001b[1;33m\u001b[0m\u001b[1;33m\u001b[0m\u001b[0m\n\u001b[0;32m     18\u001b[0m         \u001b[1;31m#need sleep before the button appear\u001b[0m\u001b[1;33m\u001b[0m\u001b[1;33m\u001b[0m\u001b[1;33m\u001b[0m\u001b[0m\n",
      "\u001b[1;31mIndexError\u001b[0m: list index out of range"
     ]
    }
   ],
   "source": [
    "while start_page <= pages:\n",
    "    #clicking for pages at the button\n",
    "    time.sleep(2)\n",
    "    start_page += 1\n",
    "    cur_page = driver.find_elements(By.XPATH, f\"//li[@data-test-pagination-page-btn='{start_page}']\")\n",
    "    if len(cur_page):\n",
    "        cur_page[0].click()\n",
    "    #give time before looping\n",
    "    time.sleep(2)\n",
    "    job_board = driver.find_elements(By.CSS_SELECTOR, '.jobs-search-results__list-item')\n",
    "    j_name = driver.find_elements(By.XPATH, \"//a[@class='disabled ember-view job-card-container__link job-card-list__title']\")\n",
    "    #looping through the applications\n",
    "    for i in range(len(job_board)):\n",
    "        time.sleep(sleep_timer)\n",
    "        job_board[i].click()\n",
    "        if(j_name[i]):\n",
    "            print(j_name[i].text)\n",
    "        #need sleep before the button appear\n",
    "        time.sleep(3)\n",
    "        easy_apply = driver.find_elements(By.CSS_SELECTOR, '.jobs-apply-button--top-card')\n",
    "        if len(easy_apply):\n",
    "            easy_apply[0].click()\n",
    "            time.sleep(sleep_timer)\n",
    "            timein = time.time()\n",
    "            timeout = time.time() + (60*minutes)\n",
    "            #filling out the form\n",
    "            while timein <= timeout:\n",
    "                #click next\n",
    "                next_button()\n",
    "                #filling box\n",
    "                fill_box()\n",
    "                #click button\n",
    "                buttonclick()\n",
    "                #submit application or early failure we get outta the loop\n",
    "                if cut() == \"Yes\" or next_button() == \"submitted\":\n",
    "                    break\n",
    "                timein = time.time()\n",
    "                #print(timeout - timein)\n",
    "            time.sleep(3)\n",
    "            #closing out the application\n",
    "            closing()\n",
    "            time.sleep(3)\n",
    "            #confirm to discard the application\n",
    "            discard()             \n",
    "        else:\n",
    "            continue"
   ]
  },
  {
   "cell_type": "code",
   "execution_count": null,
   "metadata": {},
   "outputs": [],
   "source": [
    "sys.exit(\"STOP\")"
   ]
  },
  {
   "cell_type": "code",
   "execution_count": null,
   "metadata": {},
   "outputs": [],
   "source": [
    "session = datetime.now().strftime(\"%m-%d-%Y_%H_%M_%S\")"
   ]
  },
  {
   "cell_type": "code",
   "execution_count": null,
   "metadata": {},
   "outputs": [],
   "source": []
  },
  {
   "cell_type": "code",
   "execution_count": null,
   "metadata": {},
   "outputs": [],
   "source": []
  },
  {
   "cell_type": "code",
   "execution_count": null,
   "metadata": {},
   "outputs": [],
   "source": []
  },
  {
   "cell_type": "code",
   "execution_count": null,
   "metadata": {},
   "outputs": [],
   "source": []
  },
  {
   "cell_type": "code",
   "execution_count": null,
   "metadata": {},
   "outputs": [],
   "source": []
  },
  {
   "cell_type": "code",
   "execution_count": null,
   "metadata": {},
   "outputs": [],
   "source": []
  },
  {
   "cell_type": "code",
   "execution_count": null,
   "metadata": {},
   "outputs": [],
   "source": []
  },
  {
   "cell_type": "code",
   "execution_count": null,
   "metadata": {},
   "outputs": [],
   "source": []
  }
 ],
 "metadata": {
  "kernelspec": {
   "display_name": "Python 3",
   "language": "python",
   "name": "python3"
  },
  "language_info": {
   "codemirror_mode": {
    "name": "ipython",
    "version": 3
   },
   "file_extension": ".py",
   "mimetype": "text/x-python",
   "name": "python",
   "nbconvert_exporter": "python",
   "pygments_lexer": "ipython3",
   "version": "3.7.6"
  }
 },
 "nbformat": 4,
 "nbformat_minor": 4
}
