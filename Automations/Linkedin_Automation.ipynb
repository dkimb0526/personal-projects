{
 "cells": [
  {
   "cell_type": "code",
   "execution_count": 120,
   "metadata": {},
   "outputs": [],
   "source": [
    "from selenium import webdriver\n",
    "import time\n",
    "from selenium.webdriver.common.by import By\n",
    "from datetime import datetime\n",
    "import pandas as pd\n",
    "from selenium.webdriver.chrome.service import Service\n",
    "from webdriver_manager.chrome import ChromeDriverManager\n",
    "from selenium.webdriver.common.keys import Keys\n",
    "#from selenium.webdriver import ActionChains\n",
    "#IMPORTANT, \".\" = TO FILL SPACE IN CSS SELECTOR"
   ]
  },
  {
   "cell_type": "code",
   "execution_count": 121,
   "metadata": {},
   "outputs": [],
   "source": [
    "website = r'https://www.linkedin.com/'"
   ]
  },
  {
   "cell_type": "code",
   "execution_count": 122,
   "metadata": {},
   "outputs": [
    {
     "name": "stderr",
     "output_type": "stream",
     "text": [
      "\n",
      "\n",
      "====== WebDriver manager ======\n",
      "Current google-chrome version is 114.0.5735\n",
      "Get LATEST chromedriver version for 114.0.5735 google-chrome\n",
      "Driver [C:\\Users\\xingk\\.wdm\\drivers\\chromedriver\\win32\\114.0.5735.90\\chromedriver.exe] found in cache\n"
     ]
    }
   ],
   "source": [
    "#driver = webdriver.Chrome(r\"C:\\Users\\xingk\\.wdm\\drivers\\chromedriver\\win32\")\n",
    "driver = webdriver.Chrome(service=Service(ChromeDriverManager().install()))\n",
    "time.sleep(3)"
   ]
  },
  {
   "cell_type": "code",
   "execution_count": 123,
   "metadata": {},
   "outputs": [],
   "source": [
    "driver.get(website)\n",
    "#time.sleep(3)"
   ]
  },
  {
   "cell_type": "code",
   "execution_count": 124,
   "metadata": {
    "scrolled": true
   },
   "outputs": [],
   "source": [
    "time.sleep(3)\n",
    "login_form = driver.find_element(By.LINK_TEXT, 'Sign in')"
   ]
  },
  {
   "cell_type": "code",
   "execution_count": 125,
   "metadata": {},
   "outputs": [],
   "source": [
    "login_form.click()"
   ]
  },
  {
   "cell_type": "code",
   "execution_count": 126,
   "metadata": {},
   "outputs": [],
   "source": [
    "email = driver.find_element(By.XPATH, \"//input[@id='username']\")\n",
    "password = driver.find_element(By.XPATH, \"//input[@id='password']\")"
   ]
  },
  {
   "cell_type": "code",
   "execution_count": 127,
   "metadata": {},
   "outputs": [],
   "source": [
    "time.sleep(3)\n",
    "email.send_keys(\"xingkimb@gmail.com\")\n",
    "time.sleep(3)\n",
    "password.send_keys(\"xing0526\")\n",
    "time.sleep(3)"
   ]
  },
  {
   "cell_type": "code",
   "execution_count": 128,
   "metadata": {},
   "outputs": [],
   "source": [
    "driver.find_element(By.XPATH, \"//button[@type='submit']\").click()"
   ]
  },
  {
   "cell_type": "code",
   "execution_count": 129,
   "metadata": {},
   "outputs": [],
   "source": [
    "time.sleep(3)\n",
    "confirmation = driver.find_elements(By.CSS_SELECTOR, '.primary-action-new')\n",
    "if len(confirmation):\n",
    "    confirmation[0].click()"
   ]
  },
  {
   "cell_type": "code",
   "execution_count": 130,
   "metadata": {},
   "outputs": [],
   "source": [
    "time.sleep(3)\n",
    "jobs = driver.find_elements(By.XPATH, \"//span[@title='Jobs']\")\n",
    "if len(jobs):\n",
    "    jobs[0].click()"
   ]
  },
  {
   "cell_type": "code",
   "execution_count": 131,
   "metadata": {},
   "outputs": [],
   "source": [
    "title = \"data analyst\"\n",
    "location = \"remote\""
   ]
  },
  {
   "cell_type": "code",
   "execution_count": 132,
   "metadata": {},
   "outputs": [],
   "source": [
    "time.sleep(3)\n",
    "search = driver.find_elements(By.XPATH, \"//input[@class='jobs-search-box__text-input jobs-search-box__keyboard-text-input']\")\n",
    "if len(search):\n",
    "    search[0].send_keys(title)\n",
    "    time.sleep(3)\n",
    "    search[0].send_keys(Keys.RETURN)\n"
   ]
  },
  {
   "cell_type": "code",
   "execution_count": 133,
   "metadata": {},
   "outputs": [],
   "source": [
    "search_location = driver.find_elements(By.XPATH, \"//input[@class='jobs-search-box__text-input']\")\n",
    "if len(search_location):\n",
    "    time.sleep(3)\n",
    "    search_location[0].send_keys(Keys.CONTROL + \"a\")\n",
    "    search_location[0].send_keys(location)"
   ]
  },
  {
   "cell_type": "code",
   "execution_count": 134,
   "metadata": {},
   "outputs": [],
   "source": [
    "#easy apply click\n",
    "time.sleep(3)\n",
    "filters = driver.find_elements(By.CSS_SELECTOR, '.search-reusables__primary-filter')\n",
    "if len(filters):\n",
    "    filters[6].click()\n",
    "#test[0].find_elements(By.CSS_SELECTOR, '.ember4120')"
   ]
  },
  {
   "cell_type": "code",
   "execution_count": 135,
   "metadata": {},
   "outputs": [],
   "source": [
    "time.sleep(3)\n",
    "press_search = driver.find_elements(By.CSS_SELECTOR, '.jobs-search-box__submit-button')\n",
    "if len(press_search):\n",
    "    press_search[0].click()"
   ]
  },
  {
   "cell_type": "code",
   "execution_count": 148,
   "metadata": {},
   "outputs": [],
   "source": [
    "def next_button():\n",
    "    time.sleep(sleep_timer)\n",
    "    #unfollow box\n",
    "    #unfollow = driver.find_elements(By.XPATH, \"//label[@for='follow-company-checkbox']\")\n",
    "    #if len(unfollow):\n",
    "    #    unfollow[0].click()\n",
    "    #    time.sleep(sleep_timer)\n",
    "    #continue next \n",
    "    nb1 = driver.find_elements(By.XPATH, \"//button[@aria-label='Continue to next step']\")\n",
    "    if len(nb1):\n",
    "        nb1[0].click()\n",
    "        time.sleep(sleep_timer)\n",
    "    #review application\n",
    "    review = driver.find_elements(By.XPATH, \"//button[@aria-label='Review your application']\")\n",
    "    if len(review):\n",
    "        review[0].click()\n",
    "        time.sleep(sleep_timer)\n",
    "\n"
   ]
  },
  {
   "cell_type": "code",
   "execution_count": 137,
   "metadata": {},
   "outputs": [],
   "source": [
    "def fill_box():\n",
    "    boxes = driver.find_elements(By.XPATH, \"//input[@class=' artdeco-text-input--input']\")\n",
    "    if len(boxes):\n",
    "        for i in range(len(boxes)):\n",
    "            box = boxes[i]\n",
    "            time.sleep(sleep_timer)\n",
    "            if len(box.get_attribute(\"value\")) <= 1 and box.get_attribute(\"value\") != str(exp_num):\n",
    "                box.send_keys(Keys.CONTROL + \"a\")\n",
    "                time.sleep(sleep_timer)\n",
    "                box.send_keys(exp_num)\n",
    "            \n",
    "\n",
    "    \n",
    "    other_box = driver.find_elements(By.CSS_SELECTOR, '.artdeco-text-input--input')\n",
    "    if len(other_box):\n",
    "        for i in range(len(other_box)):\n",
    "            ob = other_box[i]\n",
    "            time.sleep(sleep_timer)\n",
    "            if len(ob.get_attribute(\"value\")) <= 1 and ob.get_attribute(\"value\") != str(exp_num):\n",
    "                ob.send_keys(Keys.CONTROL + \"a\")\n",
    "                time.sleep(sleep_timer)\n",
    "                ob.send_keys(exp_num)"
   ]
  },
  {
   "cell_type": "code",
   "execution_count": 138,
   "metadata": {},
   "outputs": [],
   "source": [
    "def buttonclick():\n",
    "    time.sleep(sleep_timer)\n",
    "    #check if any of the buttons are clicked\n",
    "    y_b = driver.find_elements(By.XPATH, \"//input[@data-test-text-selectable-option__input='Yes']\")\n",
    "    n_b = driver.find_elements(By.XPATH, \"//input[@data-test-text-selectable-option__input='No']\")\n",
    "    yes_button = driver.find_elements(By.XPATH, \"//label[@data-test-text-selectable-option__label='Yes']\")\n",
    "    for i in range(len(y_b)):\n",
    "        if y_b[i].is_selected() or n_b[i].is_selected():\n",
    "            continue\n",
    "        else:\n",
    "            yes_button[i].click()"
   ]
  },
  {
   "cell_type": "markdown",
   "metadata": {},
   "source": [
    "yes_button = driver.find_elements(By.XPATH, \"//input[@data-test-text-selectable-option__input='Yes']\")\n",
    "#if len(yes_button):\n",
    "#test = yes_button[0]\n",
    "#test.is_selected\n",
    "yes_button"
   ]
  },
  {
   "cell_type": "markdown",
   "metadata": {},
   "source": [
    "no = driver.find_elements(By.XPATH, \"//input[@data-test-text-selectable-option__input='No']\")\n",
    "t2 = no[0]\n",
    "t2"
   ]
  },
  {
   "cell_type": "markdown",
   "metadata": {},
   "source": []
  },
  {
   "cell_type": "code",
   "execution_count": 139,
   "metadata": {},
   "outputs": [],
   "source": [
    "#y_b = driver.find_elements(By.XPATH, \"//input[@data-test-text-selectable-option__input='Yes']\")\n",
    "#n_b = driver.find_elements(By.XPATH, \"//input[@data-test-text-selectable-option__input='No']\")\n",
    "#yes_button = driver.find_elements(By.XPATH, \"//label[@data-test-text-selectable-option__label='Yes']\")\n",
    "#no_button = driver.find_elements(By.XPATH, \"//label[@data-test-text-selectable-option__label='No']\")\n",
    "#for i in range(len(y_b)):\n",
    "#    if y_b[i].is_selected() or n_b[i].is_selected():\n",
    "#        print(y_b[i].is_selected())\n",
    "#        print(n_b[i].is_selected())\n",
    "#        yes_button[i].click()\n",
    "#    #    continue\n",
    "#    #else:\n",
    "#    #    yes_button[i].click"
   ]
  },
  {
   "cell_type": "code",
   "execution_count": 140,
   "metadata": {},
   "outputs": [],
   "source": [
    "def discard():\n",
    "    global app, noapp  # Add this line to access the global variables\n",
    "    discard = driver.find_elements(By.XPATH, \"//button[@data-control-name='discard_application_confirm_btn']\")\n",
    "    if len(discard):\n",
    "        discard[0].click()\n",
    "        noapp += 1\n",
    "        print(f\"application couldn't complete {noapp}\")\n",
    "    else:\n",
    "        app += 1\n",
    "        print(f\"application completed {app}\")"
   ]
  },
  {
   "cell_type": "code",
   "execution_count": 141,
   "metadata": {},
   "outputs": [],
   "source": [
    "def closing():\n",
    "    print(\"Closing ceremony\")\n",
    "    #closing out the application\n",
    "    exit = driver.find_elements(By.CSS_SELECTOR, '.artdeco-modal__dismiss')\n",
    "    if len(exit):\n",
    "        exit[0].click()"
   ]
  },
  {
   "cell_type": "code",
   "execution_count": 154,
   "metadata": {},
   "outputs": [],
   "source": [
    "#amount of minutes to spend on an application\n",
    "minutes = 0.5\n",
    "\n",
    "#number of pages you want to scroll through\n",
    "start_page = 0\n",
    "pages = 5\n",
    "sleep_timer = 2\n",
    "\n",
    "#app tracker\n",
    "app = 0\n",
    "noapp = 0\n",
    "\n",
    "#the number you want to be filled in the box for your experiences\n",
    "exp_num = 4\n"
   ]
  },
  {
   "cell_type": "code",
   "execution_count": 155,
   "metadata": {},
   "outputs": [
    {
     "name": "stdout",
     "output_type": "stream",
     "text": [
      "21.74473786354065\n",
      "1.0306305885314941\n",
      "-15.305544376373291\n",
      "Closing ceremony\n",
      "application couldn't complete 1\n",
      "21.820091485977173\n",
      "3.370922565460205\n",
      "Closing ceremony\n",
      "application completed 1\n",
      "21.800950527191162\n",
      "1.2703304290771484\n",
      "Closing ceremony\n",
      "application completed 2\n",
      "21.8060142993927\n",
      "3.2518441677093506\n",
      "Closing ceremony\n",
      "application completed 3\n",
      "21.834654092788696\n",
      "-11.014823198318481\n",
      "Closing ceremony\n",
      "application couldn't complete 2\n",
      "21.827868700027466\n",
      "11.522271394729614\n",
      "3.351405620574951\n",
      "-4.852685928344727\n",
      "Closing ceremony\n",
      "application couldn't complete 3\n",
      "21.831831693649292\n",
      "-2.7143375873565674\n",
      "Closing ceremony\n",
      "application couldn't complete 4\n",
      "21.824610948562622\n",
      "1.4625937938690186\n",
      "Closing ceremony\n",
      "application completed 4\n",
      "21.814515352249146\n",
      "1.4777696132659912\n",
      "Closing ceremony\n",
      "application completed 5\n",
      "21.82930612564087\n",
      "5.52025032043457\n",
      "Closing ceremony\n",
      "application completed 6\n",
      "Closing ceremony\n",
      "application completed 7\n",
      "21.837624073028564\n",
      "-2.8649990558624268\n",
      "Closing ceremony\n",
      "application couldn't complete 5\n",
      "21.825251579284668\n"
     ]
    },
    {
     "ename": "KeyboardInterrupt",
     "evalue": "",
     "output_type": "error",
     "traceback": [
      "\u001b[1;31m---------------------------------------------------------------------------\u001b[0m",
      "\u001b[1;31mKeyboardInterrupt\u001b[0m                         Traceback (most recent call last)",
      "\u001b[1;32m<ipython-input-155-3220b000340d>\u001b[0m in \u001b[0;36m<module>\u001b[1;34m\u001b[0m\n\u001b[0;32m     38\u001b[0m                     \u001b[0mtime\u001b[0m\u001b[1;33m.\u001b[0m\u001b[0msleep\u001b[0m\u001b[1;33m(\u001b[0m\u001b[0msleep_timer\u001b[0m\u001b[1;33m)\u001b[0m\u001b[1;33m\u001b[0m\u001b[1;33m\u001b[0m\u001b[0m\n\u001b[0;32m     39\u001b[0m                     \u001b[0msubmit\u001b[0m\u001b[1;33m[\u001b[0m\u001b[1;36m0\u001b[0m\u001b[1;33m]\u001b[0m\u001b[1;33m.\u001b[0m\u001b[0mclick\u001b[0m\u001b[1;33m(\u001b[0m\u001b[1;33m)\u001b[0m\u001b[1;33m\u001b[0m\u001b[1;33m\u001b[0m\u001b[0m\n\u001b[1;32m---> 40\u001b[1;33m                     \u001b[0mtime\u001b[0m\u001b[1;33m.\u001b[0m\u001b[0msleep\u001b[0m\u001b[1;33m(\u001b[0m\u001b[0msleep_timer\u001b[0m\u001b[1;33m)\u001b[0m\u001b[1;33m\u001b[0m\u001b[1;33m\u001b[0m\u001b[0m\n\u001b[0m\u001b[0;32m     41\u001b[0m                     \u001b[1;32mbreak\u001b[0m\u001b[1;33m\u001b[0m\u001b[1;33m\u001b[0m\u001b[0m\n\u001b[0;32m     42\u001b[0m                 \u001b[0mtimein\u001b[0m \u001b[1;33m=\u001b[0m \u001b[0mtime\u001b[0m\u001b[1;33m.\u001b[0m\u001b[0mtime\u001b[0m\u001b[1;33m(\u001b[0m\u001b[1;33m)\u001b[0m\u001b[1;33m\u001b[0m\u001b[1;33m\u001b[0m\u001b[0m\n",
      "\u001b[1;31mKeyboardInterrupt\u001b[0m: "
     ]
    }
   ],
   "source": [
    "while start_page <= pages:\n",
    "    #clicking for pages at the button\n",
    "    time.sleep(2)\n",
    "    start_page += 1\n",
    "    cur_page = driver.find_elements(By.XPATH, f\"//li[@data-test-pagination-page-btn='{start_page}']\")\n",
    "    if len(cur_page):\n",
    "        cur_page[0].click()\n",
    "    #give time before looping\n",
    "    time.sleep(2)\n",
    "    job_board = driver.find_elements(By.CSS_SELECTOR, '.jobs-search-results__list-item')\n",
    "    #looping through the applications\n",
    "    for i in range(len(job_board)):\n",
    "        time.sleep(sleep_timer)\n",
    "        job_board[i].click()\n",
    "        #need sleep before the button appear\n",
    "        time.sleep(3)\n",
    "        easy_apply = driver.find_elements(By.CSS_SELECTOR, '.jobs-apply-button--top-card')\n",
    "        if len(easy_apply):\n",
    "            easy_apply[0].click()\n",
    "            time.sleep(sleep_timer)\n",
    "            timein = time.time()\n",
    "            timeout = time.time() + (60*minutes)\n",
    "            #filling out the form\n",
    "            while timein <= timeout:\n",
    "                #click next\n",
    "                next_button()\n",
    "                #filling box\n",
    "                fill_box()\n",
    "                #click button\n",
    "                buttonclick()\n",
    "                #submit application\n",
    "                time.sleep(sleep_timer)\n",
    "                submit = driver.find_elements(By.XPATH, \"//button[@aria-label='Submit application']\")\n",
    "                if len(submit):\n",
    "                    unfollow = driver.find_elements(By.XPATH, \"//label[@for='follow-company-checkbox']\")\n",
    "                    if len(unfollow):\n",
    "                        unfollow[0].click()\n",
    "                    time.sleep(sleep_timer)\n",
    "                    submit[0].click()\n",
    "                    time.sleep(sleep_timer)\n",
    "                    break\n",
    "                timein = time.time()\n",
    "                print(timeout - timein)\n",
    "            time.sleep(sleep_timer)\n",
    "            #closing out the application\n",
    "            closing()\n",
    "            time.sleep(sleep_timer)\n",
    "            #confirm to discard the application\n",
    "            discard()             \n",
    "        else:\n",
    "            continue"
   ]
  },
  {
   "cell_type": "code",
   "execution_count": null,
   "metadata": {},
   "outputs": [],
   "source": [
    "sys.exit(\"STOP\")"
   ]
  },
  {
   "cell_type": "code",
   "execution_count": null,
   "metadata": {},
   "outputs": [],
   "source": [
    "while start_page <= pages:\n",
    "    cur_page = driver.find_elements(By.XPATH, f\"//li[@data-test-pagination-page-btn='{start_page}']\")\n",
    "    if len(cur_page):\n",
    "        cur_page[0].click()\n",
    "    start_page += 1\n",
    "    content = driver.find_elements(By.CSS_SELECTOR, '.jobs-search-results__list-item')\n",
    "    for job_board in content:\n",
    "        time.sleep(sleep_timer)\n",
    "        job_board.click()\n",
    "        easy_apply = driver.find_elements(By.CSS_SELECTOR, '.jobs-apply-button--top-card')\n",
    "        if len(easy_apply):\n",
    "            easy_apply[0].click()\n",
    "        time.sleep(sleep_timer)\n",
    "        timein = time.time()\n",
    "        timeout = time.time() + (60*minutes)\n",
    "        while timein <= timeout:\n",
    "            next_button()\n",
    "            fill_box()\n",
    "            \n",
    "        exit = driver.find_elements(By.CSS_SELECTOR, '.artdeco-modal__dismiss')\n",
    "        if len(exit):\n",
    "            exit[0].click()"
   ]
  },
  {
   "cell_type": "code",
   "execution_count": null,
   "metadata": {},
   "outputs": [],
   "source": [
    "sys.exit(\"STOP\")"
   ]
  },
  {
   "cell_type": "code",
   "execution_count": null,
   "metadata": {},
   "outputs": [],
   "source": [
    "#driver.find_elements(By.XPATH, \"//input[@class=' artdeco-text-input--input']\")"
   ]
  },
  {
   "cell_type": "code",
   "execution_count": null,
   "metadata": {},
   "outputs": [],
   "source": [
    "session = datetime.now().strftime(\"%m-%d-%Y_%H_%M_%S\")"
   ]
  },
  {
   "cell_type": "code",
   "execution_count": null,
   "metadata": {},
   "outputs": [],
   "source": []
  },
  {
   "cell_type": "code",
   "execution_count": null,
   "metadata": {},
   "outputs": [],
   "source": []
  },
  {
   "cell_type": "code",
   "execution_count": null,
   "metadata": {},
   "outputs": [],
   "source": []
  },
  {
   "cell_type": "code",
   "execution_count": null,
   "metadata": {},
   "outputs": [],
   "source": []
  },
  {
   "cell_type": "code",
   "execution_count": null,
   "metadata": {},
   "outputs": [],
   "source": []
  },
  {
   "cell_type": "code",
   "execution_count": null,
   "metadata": {},
   "outputs": [],
   "source": []
  },
  {
   "cell_type": "code",
   "execution_count": null,
   "metadata": {},
   "outputs": [],
   "source": []
  },
  {
   "cell_type": "code",
   "execution_count": null,
   "metadata": {},
   "outputs": [],
   "source": []
  }
 ],
 "metadata": {
  "kernelspec": {
   "display_name": "Python 3",
   "language": "python",
   "name": "python3"
  },
  "language_info": {
   "codemirror_mode": {
    "name": "ipython",
    "version": 3
   },
   "file_extension": ".py",
   "mimetype": "text/x-python",
   "name": "python",
   "nbconvert_exporter": "python",
   "pygments_lexer": "ipython3",
   "version": "3.7.6"
  }
 },
 "nbformat": 4,
 "nbformat_minor": 4
}
