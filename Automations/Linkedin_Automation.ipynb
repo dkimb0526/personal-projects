{
 "cells": [
  {
   "cell_type": "code",
   "execution_count": 1,
   "metadata": {},
   "outputs": [],
   "source": [
    "from selenium import webdriver\n",
    "import time\n",
    "from selenium.webdriver.common.by import By\n",
    "from datetime import datetime\n",
    "import pandas as pd\n",
    "from selenium.webdriver.chrome.service import Service\n",
    "from webdriver_manager.chrome import ChromeDriverManager\n",
    "from selenium.webdriver.common.keys import Keys\n",
    "#from selenium.webdriver import ActionChains\n",
    "#IMPORTANT, \".\" = TO FILL SPACE IN CSS SELECTOR"
   ]
  },
  {
   "cell_type": "code",
   "execution_count": 2,
   "metadata": {},
   "outputs": [],
   "source": [
    "website = r'https://www.linkedin.com/'"
   ]
  },
  {
   "cell_type": "code",
   "execution_count": 3,
   "metadata": {},
   "outputs": [
    {
     "name": "stderr",
     "output_type": "stream",
     "text": [
      "\n",
      "\n",
      "====== WebDriver manager ======\n",
      "Current google-chrome version is 114.0.5735\n",
      "Get LATEST chromedriver version for 114.0.5735 google-chrome\n",
      "Driver [C:\\Users\\xingk\\.wdm\\drivers\\chromedriver\\win32\\114.0.5735.90\\chromedriver.exe] found in cache\n"
     ]
    }
   ],
   "source": [
    "#driver = webdriver.Chrome(r\"C:\\Users\\xingk\\.wdm\\drivers\\chromedriver\\win32\")\n",
    "driver = webdriver.Chrome(service=Service(ChromeDriverManager().install()))\n",
    "time.sleep(3)"
   ]
  },
  {
   "cell_type": "code",
   "execution_count": 4,
   "metadata": {},
   "outputs": [],
   "source": [
    "driver.get(website)\n",
    "#time.sleep(3)"
   ]
  },
  {
   "cell_type": "code",
   "execution_count": 5,
   "metadata": {
    "scrolled": true
   },
   "outputs": [],
   "source": [
    "time.sleep(3)\n",
    "login_form = driver.find_element(By.LINK_TEXT, 'Sign in')"
   ]
  },
  {
   "cell_type": "code",
   "execution_count": 6,
   "metadata": {},
   "outputs": [],
   "source": [
    "login_form.click()"
   ]
  },
  {
   "cell_type": "code",
   "execution_count": 7,
   "metadata": {},
   "outputs": [],
   "source": [
    "email = driver.find_element(By.XPATH, \"//input[@id='username']\")\n",
    "password = driver.find_element(By.XPATH, \"//input[@id='password']\")"
   ]
  },
  {
   "cell_type": "code",
   "execution_count": 8,
   "metadata": {},
   "outputs": [],
   "source": [
    "time.sleep(3)\n",
    "email.send_keys(\"xingkimb@gmail.com\")\n",
    "time.sleep(3)\n",
    "password.send_keys(\"xing0526\")\n",
    "time.sleep(3)"
   ]
  },
  {
   "cell_type": "code",
   "execution_count": 9,
   "metadata": {},
   "outputs": [],
   "source": [
    "driver.find_element(By.XPATH, \"//button[@type='submit']\").click()"
   ]
  },
  {
   "cell_type": "code",
   "execution_count": 10,
   "metadata": {},
   "outputs": [],
   "source": [
    "confirmation = driver.find_elements(By.CSS_SELECTOR, '.primary-action-new')\n",
    "if len(confirmation):\n",
    "    confirmation[0].click()"
   ]
  },
  {
   "cell_type": "code",
   "execution_count": 11,
   "metadata": {},
   "outputs": [],
   "source": [
    "jobs = driver.find_elements(By.XPATH, \"//span[@title='Jobs']\")\n",
    "if len(jobs):\n",
    "    jobs[0].click()"
   ]
  },
  {
   "cell_type": "code",
   "execution_count": 12,
   "metadata": {},
   "outputs": [],
   "source": [
    "title = \"data analyst\"\n",
    "location = \"remote\""
   ]
  },
  {
   "cell_type": "code",
   "execution_count": 13,
   "metadata": {},
   "outputs": [],
   "source": [
    "time.sleep(3)\n",
    "search = driver.find_elements(By.XPATH, \"//input[@class='jobs-search-box__text-input jobs-search-box__keyboard-text-input']\")\n",
    "if len(search):\n",
    "    search[0].send_keys(title)\n",
    "    time.sleep(3)\n",
    "    search[0].send_keys(Keys.RETURN)\n"
   ]
  },
  {
   "cell_type": "code",
   "execution_count": 14,
   "metadata": {},
   "outputs": [],
   "source": [
    "search_location = driver.find_elements(By.XPATH, \"//input[@class='jobs-search-box__text-input']\")\n",
    "if len(search_location):\n",
    "    time.sleep(3)\n",
    "    search_location[0].send_keys(Keys.CONTROL + \"a\")\n",
    "    search_location[0].send_keys(location)"
   ]
  },
  {
   "cell_type": "code",
   "execution_count": 15,
   "metadata": {},
   "outputs": [],
   "source": [
    "#easy apply click\n",
    "time.sleep(3)\n",
    "filters = driver.find_elements(By.CSS_SELECTOR, '.search-reusables__primary-filter')\n",
    "if len(filters):\n",
    "    filters[6].click()\n",
    "#test[0].find_elements(By.CSS_SELECTOR, '.ember4120')"
   ]
  },
  {
   "cell_type": "code",
   "execution_count": 16,
   "metadata": {},
   "outputs": [],
   "source": [
    "time.sleep(3)\n",
    "press_search = driver.find_elements(By.CSS_SELECTOR, '.jobs-search-box__submit-button')\n",
    "if len(press_search):\n",
    "    press_search[0].click()"
   ]
  },
  {
   "cell_type": "code",
   "execution_count": 17,
   "metadata": {},
   "outputs": [],
   "source": [
    "#number of pages you want to scroll through\n",
    "start_page = 1\n",
    "pages = 2\n",
    "sleep_timer = 3"
   ]
  },
  {
   "cell_type": "code",
   "execution_count": 18,
   "metadata": {},
   "outputs": [],
   "source": [
    "#unfollow = driver.find_elements(By.XPATH, \"//label[@for='follow-company-checkbox']\")\n",
    "#unfollow[0].click()"
   ]
  },
  {
   "cell_type": "code",
   "execution_count": 19,
   "metadata": {},
   "outputs": [],
   "source": [
    "def next_button():\n",
    "    time.sleep(sleep_timer)\n",
    "    #unfollow box\n",
    "    unfollow = driver.find_elements(By.XPATH, \"//label[@for='follow-company-checkbox']\")\n",
    "    if len(unfollow):\n",
    "        unfollow[0].click()\n",
    "        time.sleep(sleep_timer)\n",
    "    #continue next \n",
    "    nb1 = driver.find_elements(By.XPATH, \"//button[@aria-label='Continue to next step']\")\n",
    "    if len(nb1):\n",
    "        nb1[0].click()\n",
    "        time.sleep(sleep_timer)\n",
    "    #review application\n",
    "    review = driver.find_elements(By.XPATH, \"//button[@aria-label='Review your application']\")\n",
    "    if len(review):\n",
    "        review[0].click()\n",
    "        time.sleep(sleep_timer)\n",
    "    #submit application\n",
    "    submit = driver.find_elements(By.XPATH, \"//button[@aria-label='Submit application']\")\n",
    "    if len(submit):\n",
    "        submit[0].click()\n",
    "        time.sleep(sleep_timer)\n",
    "        \n"
   ]
  },
  {
   "cell_type": "code",
   "execution_count": 20,
   "metadata": {},
   "outputs": [],
   "source": [
    "exp_num = 2\n",
    "def fill_box():\n",
    "    boxes = driver.find_elements(By.XPATH, \"//input[@class=' artdeco-text-input--input']\")\n",
    "    if len(boxes):\n",
    "        for i in range(len(boxes)):\n",
    "            time.sleep(sleep_timer)\n",
    "            boxes[i].send_keys(Keys.CONTROL + \"a\")\n",
    "            boxes[i].send_keys(exp_num)"
   ]
  },
  {
   "cell_type": "code",
   "execution_count": 21,
   "metadata": {},
   "outputs": [],
   "source": [
    "#exit = driver.find_elements(By.CSS_SELECTOR, '.artdeco-modal__dismiss')\n",
    "#if len(exit):\n",
    "#    exit[0].click()"
   ]
  },
  {
   "cell_type": "code",
   "execution_count": 22,
   "metadata": {},
   "outputs": [],
   "source": [
    "minutes = 0.5"
   ]
  },
  {
   "cell_type": "code",
   "execution_count": 23,
   "metadata": {},
   "outputs": [
    {
     "ename": "StaleElementReferenceException",
     "evalue": "Message: stale element reference: stale element not found\n  (Session info: chrome=114.0.5735.90)\nStacktrace:\nBacktrace:\n\tGetHandleVerifier [0x0102A813+48355]\n\t(No symbol) [0x00FBC4B1]\n\t(No symbol) [0x00EC5358]\n\t(No symbol) [0x00EC87A1]\n\t(No symbol) [0x00EC99E1]\n\t(No symbol) [0x00EC9A80]\n\t(No symbol) [0x00EF1D29]\n\t(No symbol) [0x00EE9DAD]\n\t(No symbol) [0x00F0A73C]\n\t(No symbol) [0x00EE9A36]\n\t(No symbol) [0x00F0AA94]\n\t(No symbol) [0x00F1C922]\n\t(No symbol) [0x00F0A536]\n\t(No symbol) [0x00EE82DC]\n\t(No symbol) [0x00EE93DD]\n\tGetHandleVerifier [0x0128AABD+2539405]\n\tGetHandleVerifier [0x012CA78F+2800735]\n\tGetHandleVerifier [0x012C456C+2775612]\n\tGetHandleVerifier [0x010B51E0+616112]\n\t(No symbol) [0x00FC5F8C]\n\t(No symbol) [0x00FC2328]\n\t(No symbol) [0x00FC240B]\n\t(No symbol) [0x00FB4FF7]\n\tBaseThreadInitThunk [0x762F00C9+25]\n\tRtlGetAppContainerNamedObjectPath [0x77137B4E+286]\n\tRtlGetAppContainerNamedObjectPath [0x77137B1E+238]\n",
     "output_type": "error",
     "traceback": [
      "\u001b[1;31m---------------------------------------------------------------------------\u001b[0m",
      "\u001b[1;31mStaleElementReferenceException\u001b[0m            Traceback (most recent call last)",
      "\u001b[1;32m<ipython-input-23-34c8556213a7>\u001b[0m in \u001b[0;36m<module>\u001b[1;34m\u001b[0m\n\u001b[0;32m      7\u001b[0m     \u001b[1;32mfor\u001b[0m \u001b[0mjob_board\u001b[0m \u001b[1;32min\u001b[0m \u001b[0mcontent\u001b[0m\u001b[1;33m:\u001b[0m\u001b[1;33m\u001b[0m\u001b[1;33m\u001b[0m\u001b[0m\n\u001b[0;32m      8\u001b[0m         \u001b[0mtime\u001b[0m\u001b[1;33m.\u001b[0m\u001b[0msleep\u001b[0m\u001b[1;33m(\u001b[0m\u001b[0msleep_timer\u001b[0m\u001b[1;33m)\u001b[0m\u001b[1;33m\u001b[0m\u001b[1;33m\u001b[0m\u001b[0m\n\u001b[1;32m----> 9\u001b[1;33m         \u001b[0mjob_board\u001b[0m\u001b[1;33m.\u001b[0m\u001b[0mclick\u001b[0m\u001b[1;33m(\u001b[0m\u001b[1;33m)\u001b[0m\u001b[1;33m\u001b[0m\u001b[1;33m\u001b[0m\u001b[0m\n\u001b[0m\u001b[0;32m     10\u001b[0m         \u001b[0measy_apply\u001b[0m \u001b[1;33m=\u001b[0m \u001b[0mdriver\u001b[0m\u001b[1;33m.\u001b[0m\u001b[0mfind_elements\u001b[0m\u001b[1;33m(\u001b[0m\u001b[0mBy\u001b[0m\u001b[1;33m.\u001b[0m\u001b[0mCSS_SELECTOR\u001b[0m\u001b[1;33m,\u001b[0m \u001b[1;34m'.jobs-apply-button--top-card'\u001b[0m\u001b[1;33m)\u001b[0m\u001b[1;33m\u001b[0m\u001b[1;33m\u001b[0m\u001b[0m\n\u001b[0;32m     11\u001b[0m         \u001b[1;32mif\u001b[0m \u001b[0mlen\u001b[0m\u001b[1;33m(\u001b[0m\u001b[0measy_apply\u001b[0m\u001b[1;33m)\u001b[0m\u001b[1;33m:\u001b[0m\u001b[1;33m\u001b[0m\u001b[1;33m\u001b[0m\u001b[0m\n",
      "\u001b[1;32m~\\anaconda3\\lib\\site-packages\\selenium\\webdriver\\remote\\webelement.py\u001b[0m in \u001b[0;36mclick\u001b[1;34m(self)\u001b[0m\n\u001b[0;32m     92\u001b[0m     \u001b[1;32mdef\u001b[0m \u001b[0mclick\u001b[0m\u001b[1;33m(\u001b[0m\u001b[0mself\u001b[0m\u001b[1;33m)\u001b[0m \u001b[1;33m->\u001b[0m \u001b[1;32mNone\u001b[0m\u001b[1;33m:\u001b[0m\u001b[1;33m\u001b[0m\u001b[1;33m\u001b[0m\u001b[0m\n\u001b[0;32m     93\u001b[0m         \u001b[1;34m\"\"\"Clicks the element.\"\"\"\u001b[0m\u001b[1;33m\u001b[0m\u001b[1;33m\u001b[0m\u001b[0m\n\u001b[1;32m---> 94\u001b[1;33m         \u001b[0mself\u001b[0m\u001b[1;33m.\u001b[0m\u001b[0m_execute\u001b[0m\u001b[1;33m(\u001b[0m\u001b[0mCommand\u001b[0m\u001b[1;33m.\u001b[0m\u001b[0mCLICK_ELEMENT\u001b[0m\u001b[1;33m)\u001b[0m\u001b[1;33m\u001b[0m\u001b[1;33m\u001b[0m\u001b[0m\n\u001b[0m\u001b[0;32m     95\u001b[0m \u001b[1;33m\u001b[0m\u001b[0m\n\u001b[0;32m     96\u001b[0m     \u001b[1;32mdef\u001b[0m \u001b[0msubmit\u001b[0m\u001b[1;33m(\u001b[0m\u001b[0mself\u001b[0m\u001b[1;33m)\u001b[0m\u001b[1;33m:\u001b[0m\u001b[1;33m\u001b[0m\u001b[1;33m\u001b[0m\u001b[0m\n",
      "\u001b[1;32m~\\anaconda3\\lib\\site-packages\\selenium\\webdriver\\remote\\webelement.py\u001b[0m in \u001b[0;36m_execute\u001b[1;34m(self, command, params)\u001b[0m\n\u001b[0;32m    401\u001b[0m             \u001b[0mparams\u001b[0m \u001b[1;33m=\u001b[0m \u001b[1;33m{\u001b[0m\u001b[1;33m}\u001b[0m\u001b[1;33m\u001b[0m\u001b[1;33m\u001b[0m\u001b[0m\n\u001b[0;32m    402\u001b[0m         \u001b[0mparams\u001b[0m\u001b[1;33m[\u001b[0m\u001b[1;34m\"id\"\u001b[0m\u001b[1;33m]\u001b[0m \u001b[1;33m=\u001b[0m \u001b[0mself\u001b[0m\u001b[1;33m.\u001b[0m\u001b[0m_id\u001b[0m\u001b[1;33m\u001b[0m\u001b[1;33m\u001b[0m\u001b[0m\n\u001b[1;32m--> 403\u001b[1;33m         \u001b[1;32mreturn\u001b[0m \u001b[0mself\u001b[0m\u001b[1;33m.\u001b[0m\u001b[0m_parent\u001b[0m\u001b[1;33m.\u001b[0m\u001b[0mexecute\u001b[0m\u001b[1;33m(\u001b[0m\u001b[0mcommand\u001b[0m\u001b[1;33m,\u001b[0m \u001b[0mparams\u001b[0m\u001b[1;33m)\u001b[0m\u001b[1;33m\u001b[0m\u001b[1;33m\u001b[0m\u001b[0m\n\u001b[0m\u001b[0;32m    404\u001b[0m \u001b[1;33m\u001b[0m\u001b[0m\n\u001b[0;32m    405\u001b[0m     \u001b[1;32mdef\u001b[0m \u001b[0mfind_element\u001b[0m\u001b[1;33m(\u001b[0m\u001b[0mself\u001b[0m\u001b[1;33m,\u001b[0m \u001b[0mby\u001b[0m\u001b[1;33m=\u001b[0m\u001b[0mBy\u001b[0m\u001b[1;33m.\u001b[0m\u001b[0mID\u001b[0m\u001b[1;33m,\u001b[0m \u001b[0mvalue\u001b[0m\u001b[1;33m=\u001b[0m\u001b[1;32mNone\u001b[0m\u001b[1;33m)\u001b[0m \u001b[1;33m->\u001b[0m \u001b[0mWebElement\u001b[0m\u001b[1;33m:\u001b[0m\u001b[1;33m\u001b[0m\u001b[1;33m\u001b[0m\u001b[0m\n",
      "\u001b[1;32m~\\anaconda3\\lib\\site-packages\\selenium\\webdriver\\remote\\webdriver.py\u001b[0m in \u001b[0;36mexecute\u001b[1;34m(self, driver_command, params)\u001b[0m\n\u001b[0;32m    438\u001b[0m         \u001b[0mresponse\u001b[0m \u001b[1;33m=\u001b[0m \u001b[0mself\u001b[0m\u001b[1;33m.\u001b[0m\u001b[0mcommand_executor\u001b[0m\u001b[1;33m.\u001b[0m\u001b[0mexecute\u001b[0m\u001b[1;33m(\u001b[0m\u001b[0mdriver_command\u001b[0m\u001b[1;33m,\u001b[0m \u001b[0mparams\u001b[0m\u001b[1;33m)\u001b[0m\u001b[1;33m\u001b[0m\u001b[1;33m\u001b[0m\u001b[0m\n\u001b[0;32m    439\u001b[0m         \u001b[1;32mif\u001b[0m \u001b[0mresponse\u001b[0m\u001b[1;33m:\u001b[0m\u001b[1;33m\u001b[0m\u001b[1;33m\u001b[0m\u001b[0m\n\u001b[1;32m--> 440\u001b[1;33m             \u001b[0mself\u001b[0m\u001b[1;33m.\u001b[0m\u001b[0merror_handler\u001b[0m\u001b[1;33m.\u001b[0m\u001b[0mcheck_response\u001b[0m\u001b[1;33m(\u001b[0m\u001b[0mresponse\u001b[0m\u001b[1;33m)\u001b[0m\u001b[1;33m\u001b[0m\u001b[1;33m\u001b[0m\u001b[0m\n\u001b[0m\u001b[0;32m    441\u001b[0m             \u001b[0mresponse\u001b[0m\u001b[1;33m[\u001b[0m\u001b[1;34m\"value\"\u001b[0m\u001b[1;33m]\u001b[0m \u001b[1;33m=\u001b[0m \u001b[0mself\u001b[0m\u001b[1;33m.\u001b[0m\u001b[0m_unwrap_value\u001b[0m\u001b[1;33m(\u001b[0m\u001b[0mresponse\u001b[0m\u001b[1;33m.\u001b[0m\u001b[0mget\u001b[0m\u001b[1;33m(\u001b[0m\u001b[1;34m\"value\"\u001b[0m\u001b[1;33m,\u001b[0m \u001b[1;32mNone\u001b[0m\u001b[1;33m)\u001b[0m\u001b[1;33m)\u001b[0m\u001b[1;33m\u001b[0m\u001b[1;33m\u001b[0m\u001b[0m\n\u001b[0;32m    442\u001b[0m             \u001b[1;32mreturn\u001b[0m \u001b[0mresponse\u001b[0m\u001b[1;33m\u001b[0m\u001b[1;33m\u001b[0m\u001b[0m\n",
      "\u001b[1;32m~\\anaconda3\\lib\\site-packages\\selenium\\webdriver\\remote\\errorhandler.py\u001b[0m in \u001b[0;36mcheck_response\u001b[1;34m(self, response)\u001b[0m\n\u001b[0;32m    243\u001b[0m                 \u001b[0malert_text\u001b[0m \u001b[1;33m=\u001b[0m \u001b[0mvalue\u001b[0m\u001b[1;33m[\u001b[0m\u001b[1;34m\"alert\"\u001b[0m\u001b[1;33m]\u001b[0m\u001b[1;33m.\u001b[0m\u001b[0mget\u001b[0m\u001b[1;33m(\u001b[0m\u001b[1;34m\"text\"\u001b[0m\u001b[1;33m)\u001b[0m\u001b[1;33m\u001b[0m\u001b[1;33m\u001b[0m\u001b[0m\n\u001b[0;32m    244\u001b[0m             \u001b[1;32mraise\u001b[0m \u001b[0mexception_class\u001b[0m\u001b[1;33m(\u001b[0m\u001b[0mmessage\u001b[0m\u001b[1;33m,\u001b[0m \u001b[0mscreen\u001b[0m\u001b[1;33m,\u001b[0m \u001b[0mstacktrace\u001b[0m\u001b[1;33m,\u001b[0m \u001b[0malert_text\u001b[0m\u001b[1;33m)\u001b[0m  \u001b[1;31m# type: ignore[call-arg]  # mypy is not smart enough here\u001b[0m\u001b[1;33m\u001b[0m\u001b[1;33m\u001b[0m\u001b[0m\n\u001b[1;32m--> 245\u001b[1;33m         \u001b[1;32mraise\u001b[0m \u001b[0mexception_class\u001b[0m\u001b[1;33m(\u001b[0m\u001b[0mmessage\u001b[0m\u001b[1;33m,\u001b[0m \u001b[0mscreen\u001b[0m\u001b[1;33m,\u001b[0m \u001b[0mstacktrace\u001b[0m\u001b[1;33m)\u001b[0m\u001b[1;33m\u001b[0m\u001b[1;33m\u001b[0m\u001b[0m\n\u001b[0m",
      "\u001b[1;31mStaleElementReferenceException\u001b[0m: Message: stale element reference: stale element not found\n  (Session info: chrome=114.0.5735.90)\nStacktrace:\nBacktrace:\n\tGetHandleVerifier [0x0102A813+48355]\n\t(No symbol) [0x00FBC4B1]\n\t(No symbol) [0x00EC5358]\n\t(No symbol) [0x00EC87A1]\n\t(No symbol) [0x00EC99E1]\n\t(No symbol) [0x00EC9A80]\n\t(No symbol) [0x00EF1D29]\n\t(No symbol) [0x00EE9DAD]\n\t(No symbol) [0x00F0A73C]\n\t(No symbol) [0x00EE9A36]\n\t(No symbol) [0x00F0AA94]\n\t(No symbol) [0x00F1C922]\n\t(No symbol) [0x00F0A536]\n\t(No symbol) [0x00EE82DC]\n\t(No symbol) [0x00EE93DD]\n\tGetHandleVerifier [0x0128AABD+2539405]\n\tGetHandleVerifier [0x012CA78F+2800735]\n\tGetHandleVerifier [0x012C456C+2775612]\n\tGetHandleVerifier [0x010B51E0+616112]\n\t(No symbol) [0x00FC5F8C]\n\t(No symbol) [0x00FC2328]\n\t(No symbol) [0x00FC240B]\n\t(No symbol) [0x00FB4FF7]\n\tBaseThreadInitThunk [0x762F00C9+25]\n\tRtlGetAppContainerNamedObjectPath [0x77137B4E+286]\n\tRtlGetAppContainerNamedObjectPath [0x77137B1E+238]\n"
     ]
    }
   ],
   "source": [
    "while start_page <= pages:\n",
    "    cur_page = driver.find_elements(By.XPATH, f\"//li[@data-test-pagination-page-btn='{start_page}']\")\n",
    "    if len(cur_page):\n",
    "        cur_page[0].click()\n",
    "    start_page += 1\n",
    "    content = driver.find_elements(By.CSS_SELECTOR, '.jobs-search-results__list-item')\n",
    "    for job_board in content:\n",
    "        time.sleep(sleep_timer)\n",
    "        job_board.click()\n",
    "        easy_apply = driver.find_elements(By.CSS_SELECTOR, '.jobs-apply-button--top-card')\n",
    "        if len(easy_apply):\n",
    "            easy_apply[0].click()\n",
    "        time.sleep(sleep_timer)\n",
    "        timein = time.time()\n",
    "        timeout = time.time() + (60*minutes)\n",
    "        while timein <= timeout:\n",
    "            next_button()\n",
    "            fill_box()\n",
    "            \n",
    "        exit = driver.find_elements(By.CSS_SELECTOR, '.artdeco-modal__dismiss')\n",
    "        if len(exit):\n",
    "            exit[0].click()"
   ]
  },
  {
   "cell_type": "code",
   "execution_count": null,
   "metadata": {},
   "outputs": [],
   "source": [
    "sys.exit(\"STOP\")"
   ]
  },
  {
   "cell_type": "code",
   "execution_count": null,
   "metadata": {},
   "outputs": [],
   "source": [
    "#driver.find_elements(By.XPATH, \"//input[@class=' artdeco-text-input--input']\")"
   ]
  },
  {
   "cell_type": "code",
   "execution_count": null,
   "metadata": {},
   "outputs": [],
   "source": [
    "content[0].click()"
   ]
  },
  {
   "cell_type": "code",
   "execution_count": null,
   "metadata": {},
   "outputs": [],
   "source": []
  },
  {
   "cell_type": "code",
   "execution_count": null,
   "metadata": {},
   "outputs": [],
   "source": [
    "driver.find_elements(By.XPATH, \"//button[@aria-label='Continue to next step']\")[0].click()"
   ]
  },
  {
   "cell_type": "code",
   "execution_count": null,
   "metadata": {},
   "outputs": [],
   "source": []
  },
  {
   "cell_type": "code",
   "execution_count": null,
   "metadata": {},
   "outputs": [],
   "source": []
  },
  {
   "cell_type": "code",
   "execution_count": null,
   "metadata": {},
   "outputs": [],
   "source": []
  },
  {
   "cell_type": "code",
   "execution_count": null,
   "metadata": {},
   "outputs": [],
   "source": []
  },
  {
   "cell_type": "code",
   "execution_count": null,
   "metadata": {},
   "outputs": [],
   "source": []
  },
  {
   "cell_type": "code",
   "execution_count": null,
   "metadata": {},
   "outputs": [],
   "source": []
  },
  {
   "cell_type": "code",
   "execution_count": null,
   "metadata": {},
   "outputs": [],
   "source": [
    "full_list = []\n",
    "applied_list = []\n",
    "counter = 0\n",
    "\n",
    "for i in range(0, pages+1):\n",
    "    time.sleep(5)\n",
    "    content = driver.find_elements(By.CSS_SELECTOR, '.jobs-search-results__list-item')\n",
    "    \n",
    "    for listing in content:\n",
    "        \n",
    "        counter += 1\n",
    "        if counter % 25 == 0:\n",
    "            break\n",
    "        time.sleep(sleeptimer)\n",
    "        print(counter)\n",
    "        try:\n",
    "            #looking for successful applied notification\n",
    "            applied = driver.find_element(By.CSS_SELECTOR, '.artdeco-toast-item__content').text\n",
    "            applied_list.append([applied, counter])\n",
    "        except:\n",
    "            print(\"Fail at ----- > Finding succesful application TRY#1\")\n",
    "            pass\n",
    "        try:\n",
    "            #closing out button for successful application\n",
    "            finding_closed_button = driver.find_element(By.CSS_SELECTOR, '.artdeco-toast-item__dismiss')\n",
    "            finding_closed_button.click()\n",
    "        except:\n",
    "            print(\"Fail at ----- > closing successful application TRY#2\")\n",
    "            pass\n",
    "        #timer before clicking\n",
    "        try:\n",
    "            \n",
    "            listing.click()\n",
    "            time.sleep(sleeptimer)\n",
    "            listing.click()\n",
    "            jobtitle = driver.find_element(By.CSS_SELECTOR, '.jobs-unified-top-card__job-title').text\n",
    "            #company = driver.find_element(By.CSS_SELECTOR, '.jobs-unified-top-card__company-name').text\n",
    "            #if old_job_title == jobtitle:\n",
    "            #    print(\"Stuck on same job\")\n",
    "            #    break\n",
    "            #old_job_title = jobtitle\n",
    "            full_list.append([jobtitle, company, counter])\n",
    "            time.sleep(sleeptimer)\n",
    "\n",
    "            #print(counter)\n",
    "        except:\n",
    "            print(\"Fail at ----- > Clicking listing TRY#3\")\n",
    "            driver.find_element(By.XPATH, \"//html\").click()\n",
    "            time.sleep(sleeptimer)\n",
    "            listing.click()\n",
    "            time.sleep(sleeptimer)\n",
    "            listing.click()\n",
    "            jobtitle = driver.find_element(By.CSS_SELECTOR, '.jobs-unified-top-card__job-title').text\n",
    "            company = driver.find_element(By.CSS_SELECTOR, '.jobs-unified-top-card__company-name').text\n",
    "            #if old_job_title == jobtitle:\n",
    "            #    print(\"Stuck on same job\")\n",
    "            #    break\n",
    "            #old_job_title = jobtitle\n",
    "            full_list.append([jobtitle, company, counter])\n",
    "            time.sleep(sleeptimer)\n",
    "            pass\n",
    "        try:\n",
    "            driver.find_element(By.CSS_SELECTOR, '.jobs-apply-button')\n",
    "            apply_button = driver.find_element(By.CSS_SELECTOR, '.jobs-apply-button')\n",
    "            apply_button.click()\n",
    "            time.sleep(sleeptimer)\n",
    "        except:\n",
    "            #continue to next application because cannot find easy apply button\n",
    "            print(\"Fail at ----- > clicking apply application TRY#4\")\n",
    "            continue\n",
    "        try:\n",
    "            next_button = driver.find_element(By.CSS_SELECTOR, 'footer button')\n",
    "            next_button.click()\n",
    "            time.sleep(sleeptimer)\n",
    "            #click on the first next button\n",
    "            n_b_2 = driver.find_element(By.CSS_SELECTOR, '.artdeco-button--primary')\n",
    "            n_b_2.click()\n",
    "            time.sleep(sleeptimer)\n",
    "            #find resume\n",
    "            choose_resume = driver.find_element(By.CSS_SELECTOR, '.artdeco-button.artdeco-button--1')\n",
    "            choose_resume.click()\n",
    "            time.sleep(sleeptimer)\n",
    "            #Clicking on next button for choosing resume\n",
    "            choose_resume_button = driver.find_element(By.XPATH, \"//button[@class='artdeco-button artdeco-button--2 artdeco-button--primary ember-view']\")\n",
    "            choose_resume_button.click()\n",
    "            time.sleep(sleeptimer)\n",
    "            review = driver.find_element(By.CSS_SELECTOR, '.artdeco-button--primary')\n",
    "            review.click()\n",
    "            time.sleep(sleeptimer)\n",
    "            review2 = driver.find_element(By.CSS_SELECTOR, '.artdeco-button--primary')\n",
    "            review2.click()\n",
    "            time.sleep(sleeptimer)\n",
    "            uncheck_follow = driver.find_element(By.XPATH, \"//label[@for='follow-company-checkbox']\")\n",
    "            uncheck_follow.click()\n",
    "            time.sleep(sleeptimer)\n",
    "            final_review = driver.find_element(By.CSS_SELECTOR, '.artdeco-button--primary')\n",
    "            final_review.click()\n",
    "        except:\n",
    "            try:\n",
    "                review2 = driver.find_element(By.CSS_SELECTOR, '.artdeco-button--primary')\n",
    "                review2.click()\n",
    "                time.sleep(sleeptimer)\n",
    "                uncheck_follow = driver.find_element(By.XPATH, \"//label[@for='follow-company-checkbox']\")\n",
    "                uncheck_follow.click()\n",
    "                time.sleep(sleeptimer)\n",
    "                final_review = driver.find_element(By.CSS_SELECTOR, '.artdeco-button--primary')\n",
    "                final_review.click()\n",
    "            except:\n",
    "                try:\n",
    "                    \n",
    "                    discard_button = driver.find_element(By.CSS_SELECTOR, '.artdeco-modal__dismiss')\n",
    "                    discard_button.click()\n",
    "                    time.sleep(sleeptimer)\n",
    "                    discard_c = driver.find_element(By.CSS_SELECTOR, '.artdeco-button--secondary')\n",
    "                    discard_c.click()\n",
    "                except:\n",
    "                    try:\n",
    "                        driver.find_element(By.XPATH, \"//html\").click()\n",
    "                    except:\n",
    "                        print(f\"skipped ===> application #{counter}\")\n",
    "                        continue\n",
    "                        \n",
    "    if counter % 25 == 0:\n",
    "        print(\"IF FUNCTION INITIATED\")\n",
    "        print(f\"===Page==={counter}\")\n",
    "        after_first = f\"{page_links}={counter}\"\n",
    "        driver.get(after_first)                    \n"
   ]
  },
  {
   "cell_type": "code",
   "execution_count": null,
   "metadata": {},
   "outputs": [],
   "source": [
    "session = datetime.now().strftime(\"%m-%d-%Y_%H_%M_%S\")"
   ]
  },
  {
   "cell_type": "code",
   "execution_count": null,
   "metadata": {},
   "outputs": [],
   "source": [
    "len(applied_list)"
   ]
  },
  {
   "cell_type": "code",
   "execution_count": null,
   "metadata": {},
   "outputs": [],
   "source": [
    "len(full_list)"
   ]
  },
  {
   "cell_type": "code",
   "execution_count": null,
   "metadata": {},
   "outputs": [],
   "source": [
    "df = pd.DataFrame(applied_list, columns=[\"Company\", \"Row #\"])"
   ]
  },
  {
   "cell_type": "code",
   "execution_count": null,
   "metadata": {},
   "outputs": [],
   "source": [
    "df.to_csv(f\"applied_on_{session}\", sep='\\t')"
   ]
  },
  {
   "cell_type": "code",
   "execution_count": null,
   "metadata": {},
   "outputs": [],
   "source": [
    "content = driver.find_elements(By.CSS_SELECTOR, '.jobs-search-results__list-item')"
   ]
  },
  {
   "cell_type": "code",
   "execution_count": null,
   "metadata": {},
   "outputs": [],
   "source": []
  },
  {
   "cell_type": "code",
   "execution_count": null,
   "metadata": {},
   "outputs": [],
   "source": []
  },
  {
   "cell_type": "code",
   "execution_count": null,
   "metadata": {},
   "outputs": [],
   "source": []
  },
  {
   "cell_type": "code",
   "execution_count": null,
   "metadata": {},
   "outputs": [],
   "source": []
  },
  {
   "cell_type": "code",
   "execution_count": null,
   "metadata": {},
   "outputs": [],
   "source": []
  },
  {
   "cell_type": "code",
   "execution_count": null,
   "metadata": {},
   "outputs": [],
   "source": []
  },
  {
   "cell_type": "code",
   "execution_count": null,
   "metadata": {},
   "outputs": [],
   "source": []
  },
  {
   "cell_type": "code",
   "execution_count": null,
   "metadata": {},
   "outputs": [],
   "source": []
  }
 ],
 "metadata": {
  "kernelspec": {
   "display_name": "Python 3",
   "language": "python",
   "name": "python3"
  },
  "language_info": {
   "codemirror_mode": {
    "name": "ipython",
    "version": 3
   },
   "file_extension": ".py",
   "mimetype": "text/x-python",
   "name": "python",
   "nbconvert_exporter": "python",
   "pygments_lexer": "ipython3",
   "version": "3.7.6"
  }
 },
 "nbformat": 4,
 "nbformat_minor": 4
}
